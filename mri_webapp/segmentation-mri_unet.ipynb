{
 "cells": [
  {
   "cell_type": "code",
   "execution_count": 1,
   "id": "c1155dec",
   "metadata": {
    "_cell_guid": "b1076dfc-b9ad-4769-8c92-a6c4dae69d19",
    "_uuid": "8f2839f25d086af736a60e9eeb907d3b93b6e0e5",
    "execution": {
     "iopub.execute_input": "2024-10-13T20:32:20.443862Z",
     "iopub.status.busy": "2024-10-13T20:32:20.443243Z",
     "iopub.status.idle": "2024-10-13T20:32:34.807121Z",
     "shell.execute_reply": "2024-10-13T20:32:34.806103Z"
    },
    "papermill": {
     "duration": 14.377305,
     "end_time": "2024-10-13T20:32:34.809499",
     "exception": false,
     "start_time": "2024-10-13T20:32:20.432194",
     "status": "completed"
    },
    "tags": []
   },
   "outputs": [],
   "source": [
    "import os\n",
    "import cv2\n",
    "import random\n",
    "import glob\n",
    "import PIL\n",
    "import shutil\n",
    "import numpy as np\n",
    "import pandas as pd\n",
    "import matplotlib\n",
    "import matplotlib.pyplot as plt\n",
    "from skimage import data\n",
    "from skimage.util import montage\n",
    "import skimage.transform as skTrans\n",
    "from skimage.transform import rotate\n",
    "from skimage.transform import resize\n",
    "from PIL import Image, ImageOps\n",
    "import nibabel as nib\n",
    "import keras\n",
    "import keras.backend as K\n",
    "from keras.callbacks import CSVLogger\n",
    "import tensorflow as tf\n",
    "from tensorflow.keras.utils import plot_model\n",
    "from sklearn.preprocessing import MinMaxScaler\n",
    "from sklearn.model_selection import train_test_split\n",
    "from sklearn.metrics import classification_report\n",
    "from tensorflow.keras.models import *\n",
    "from tensorflow.keras.layers import *\n",
    "from tensorflow.keras.optimizers import *\n",
    "from tensorflow.keras.callbacks import ModelCheckpoint, ReduceLROnPlateau, EarlyStopping, TensorBoard\n",
    "#from tensorflow.keras.layers.experimental import preprocessing"
   ]
  },
  {
   "cell_type": "code",
   "execution_count": 2,
   "id": "a803feb3",
   "metadata": {
    "execution": {
     "iopub.execute_input": "2024-10-13T20:32:34.830404Z",
     "iopub.status.busy": "2024-10-13T20:32:34.829804Z",
     "iopub.status.idle": "2024-10-13T20:32:34.834030Z",
     "shell.execute_reply": "2024-10-13T20:32:34.833177Z"
    },
    "papermill": {
     "duration": 0.016047,
     "end_time": "2024-10-13T20:32:34.835987",
     "exception": false,
     "start_time": "2024-10-13T20:32:34.819940",
     "status": "completed"
    },
    "tags": []
   },
   "outputs": [],
   "source": [
    "scaler = MinMaxScaler()"
   ]
  },
  {
   "cell_type": "code",
   "execution_count": 3,
   "id": "1e8fbb7c",
   "metadata": {
    "execution": {
     "iopub.execute_input": "2024-10-13T20:32:34.864020Z",
     "iopub.status.busy": "2024-10-13T20:32:34.863690Z",
     "iopub.status.idle": "2024-10-13T20:32:34.867557Z",
     "shell.execute_reply": "2024-10-13T20:32:34.866724Z"
    },
    "papermill": {
     "duration": 0.018164,
     "end_time": "2024-10-13T20:32:34.869528",
     "exception": false,
     "start_time": "2024-10-13T20:32:34.851364",
     "status": "completed"
    },
    "tags": []
   },
   "outputs": [],
   "source": [
    "TRAIN_DATASET_PATH = \"/kaggle/input/brats20-dataset-training-validation/BraTS2020_TrainingData/MICCAI_BraTS2020_TrainingData\"\n",
    "TRAIN_DATASET_PATH2 = \"/kaggle/input/lgg-mri-segmentation/kaggle_3m\"\n"
   ]
  },
  {
   "cell_type": "code",
   "execution_count": 4,
   "id": "11efe225",
   "metadata": {
    "execution": {
     "iopub.execute_input": "2024-10-13T20:32:34.890738Z",
     "iopub.status.busy": "2024-10-13T20:32:34.890469Z",
     "iopub.status.idle": "2024-10-13T20:32:34.954206Z",
     "shell.execute_reply": "2024-10-13T20:32:34.953342Z"
    },
    "papermill": {
     "duration": 0.076622,
     "end_time": "2024-10-13T20:32:34.957115",
     "exception": false,
     "start_time": "2024-10-13T20:32:34.880493",
     "status": "completed"
    },
    "tags": []
   },
   "outputs": [],
   "source": [
    "def pathListIntoIds(dirList):\n",
    "    x = []\n",
    "    for i in range(0,len(dirList)):\n",
    "        x.append(dirList[i][dirList[i].rfind('/')+1:])\n",
    "    return x\n",
    "train_and_val_directories1 = [f.path for f in os.scandir(TRAIN_DATASET_PATH) if f.is_dir()]\n",
    "train_and_test_ids1 = pathListIntoIds(train_and_val_directories1);\n",
    "\n",
    "train_test_ids1, val_ids1 = train_test_split(train_and_test_ids1,test_size=0.2)\n",
    "train_ids1, test_ids1 = train_test_split(train_test_ids1,test_size=0.15)\n",
    "\n",
    "train_and_val_directories2 = [f.path for f in os.scandir(TRAIN_DATASET_PATH2) if f.is_dir()]\n",
    "\n",
    "\n",
    "train_and_test_ids2 = pathListIntoIds(train_and_val_directories2);\n",
    "\n",
    "train_test_ids2, val_ids2 = train_test_split(train_and_test_ids2,test_size=0.2)\n",
    "train_ids2, test_ids2 = train_test_split(train_test_ids2,test_size=0.15)"
   ]
  },
  {
   "cell_type": "code",
   "execution_count": 5,
   "id": "cef985f8",
   "metadata": {
    "execution": {
     "iopub.execute_input": "2024-10-13T20:32:34.986263Z",
     "iopub.status.busy": "2024-10-13T20:32:34.985820Z",
     "iopub.status.idle": "2024-10-13T20:32:34.992287Z",
     "shell.execute_reply": "2024-10-13T20:32:34.991162Z"
    },
    "papermill": {
     "duration": 0.023949,
     "end_time": "2024-10-13T20:32:34.994370",
     "exception": false,
     "start_time": "2024-10-13T20:32:34.970421",
     "status": "completed"
    },
    "tags": []
   },
   "outputs": [],
   "source": [
    "# Define seg-areas\n",
    "SEGMENT_CLASSES = {\n",
    "    0 : 'NOT tumor',\n",
    "    1 : 'NECROTIC/CORE', # or NON-ENHANCING tumor CORE\n",
    "    2 : 'EDEMA',\n",
    "    3 : 'ENHANCING' # original 4 -> converted into 3\n",
    "}\n",
    "\n",
    "# Select Slices and Image Size\n",
    "VOLUME_SLICES = 100\n",
    "VOLUME_START_AT = 22 # first slice of volume that we will include\n",
    "IMG_SIZE=128"
   ]
  },
  {
   "cell_type": "code",
   "execution_count": 6,
   "id": "d6d2bafb",
   "metadata": {
    "execution": {
     "iopub.execute_input": "2024-10-13T20:32:35.017839Z",
     "iopub.status.busy": "2024-10-13T20:32:35.017559Z",
     "iopub.status.idle": "2024-10-13T20:32:35.034887Z",
     "shell.execute_reply": "2024-10-13T20:32:35.034047Z"
    },
    "papermill": {
     "duration": 0.031548,
     "end_time": "2024-10-13T20:32:35.036822",
     "exception": false,
     "start_time": "2024-10-13T20:32:35.005274",
     "status": "completed"
    },
    "tags": []
   },
   "outputs": [],
   "source": [
    "import os\n",
    "import numpy as np\n",
    "import cv2\n",
    "import tensorflow as tf\n",
    "from tensorflow import keras\n",
    "import nibabel as nib  # Assuming nibabel is used to load .nii files\n",
    "\n",
    "class DataGenerator(keras.utils.Sequence):\n",
    "    'Generates data for Keras'\n",
    "    def __init__(self, list_IDs, dim=(128, 128), batch_size=1, n_channels=2, shuffle=True):\n",
    "        'Initialization'\n",
    "        self.dim = dim  # Ensuring 128x128 as requested\n",
    "        self.batch_size = batch_size\n",
    "        self.list_IDs = list_IDs\n",
    "        self.n_channels = n_channels\n",
    "        self.shuffle = shuffle\n",
    "        self.on_epoch_end()\n",
    "\n",
    "    def __len__(self):\n",
    "        'Denotes the number of batches per epoch'\n",
    "        return int(np.floor(len(self.list_IDs) / self.batch_size))\n",
    "\n",
    "    def __getitem__(self, index):\n",
    "        'Generate one batch of data'\n",
    "        indexes = self.indexes[index * self.batch_size:(index + 1) * self.batch_size]\n",
    "        Batch_ids = [self.list_IDs[k] for k in indexes]\n",
    "        X, y = self.__data_generation(Batch_ids)\n",
    "        return X, y\n",
    "\n",
    "    def on_epoch_end(self):\n",
    "        'Updates indexes after each epoch'\n",
    "        self.indexes = np.arange(len(self.list_IDs))\n",
    "        if self.shuffle:\n",
    "            np.random.shuffle(self.indexes)\n",
    "\n",
    "    def __data_generation(self, Batch_ids):\n",
    "        'Generates data containing batch_size samples'\n",
    "        # Initialization\n",
    "        X = np.zeros((self.batch_size * VOLUME_SLICES, *self.dim, self.n_channels), dtype=np.float32)\n",
    "        y = np.zeros((self.batch_size * VOLUME_SLICES, 128, 128), dtype=np.float32)\n",
    "        Y = np.zeros((self.batch_size * VOLUME_SLICES, *self.dim, 4), dtype=np.float32)\n",
    "\n",
    "        # Generate data\n",
    "        for c, i in enumerate(Batch_ids):\n",
    "            case_path = os.path.join(TRAIN_DATASET_PATH, i)\n",
    "\n",
    "            flair_path = os.path.join(case_path, f'{i}_flair.nii')\n",
    "            flair = nib.load(flair_path).get_fdata()\n",
    "\n",
    "            t1ce_path = os.path.join(case_path, f'{i}_t1ce.nii')\n",
    "            t1ce = nib.load(t1ce_path).get_fdata()\n",
    "\n",
    "            # Load segmentation file: check if file exists\n",
    "            seg_path = os.path.join(case_path, f'{i}_seg.nii')\n",
    "            if os.path.exists(seg_path):\n",
    "                seg = nib.load(seg_path).get_fdata()\n",
    "            else:\n",
    "                fallback_seg_path = os.path.join(case_path, 'W39_1998.09.19_Segm.nii')\n",
    "                if os.path.exists(fallback_seg_path):\n",
    "                    seg = nib.load(fallback_seg_path).get_fdata()\n",
    "                else:\n",
    "                    raise FileNotFoundError(f\"Neither '{seg_path}' nor '{fallback_seg_path}' found for ID '{i}'.\")\n",
    "\n",
    "            # Resize and store the images in the batch\n",
    "            for j in range(VOLUME_SLICES):\n",
    "                X[j + VOLUME_SLICES * c, :, :, 0] = cv2.resize(flair[:, :, j + VOLUME_START_AT], self.dim)\n",
    "                X[j + VOLUME_SLICES * c, :, :, 1] = cv2.resize(t1ce[:, :, j + VOLUME_START_AT], self.dim)\n",
    "\n",
    "                # Resizing segmentation masks\n",
    "                y[j + VOLUME_SLICES * c] = cv2.resize(seg[:, :, j + VOLUME_START_AT], self.dim)\n",
    "\n",
    "        # Adjust mask values and one-hot encode\n",
    "        y[y == 4] = 3  # Custom logic for mask values\n",
    "        mask = tf.one_hot(y.astype(np.int32), 4)  # One-hot encode\n",
    "\n",
    "        # Resize the mask to match dimensions if needed\n",
    "        Y = tf.image.resize(mask, self.dim)\n",
    "\n",
    "        # Normalize each image in X individually (scale to [0, 1])\n",
    "        X = X / 255.0\n",
    "\n",
    "        return X, Y\n"
   ]
  },
  {
   "cell_type": "code",
   "execution_count": 7,
   "id": "98adc760",
   "metadata": {
    "execution": {
     "iopub.execute_input": "2024-10-13T20:32:35.056024Z",
     "iopub.status.busy": "2024-10-13T20:32:35.055694Z",
     "iopub.status.idle": "2024-10-13T20:32:35.069949Z",
     "shell.execute_reply": "2024-10-13T20:32:35.069096Z"
    },
    "papermill": {
     "duration": 0.026186,
     "end_time": "2024-10-13T20:32:35.071907",
     "exception": false,
     "start_time": "2024-10-13T20:32:35.045721",
     "status": "completed"
    },
    "tags": []
   },
   "outputs": [],
   "source": [
    "class TIFDataGenerator(keras.utils.Sequence):\n",
    "    'Generates data for Keras from TIF images'\n",
    "    def __init__(self, list_IDs, dim=(IMG_SIZE, IMG_SIZE), batch_size=1, n_channels=2, shuffle=True):\n",
    "        'Initialization'\n",
    "        self.dim = dim\n",
    "        self.batch_size = batch_size\n",
    "        self.list_IDs = list_IDs\n",
    "        self.n_channels = n_channels\n",
    "        self.shuffle = shuffle\n",
    "        self.on_epoch_end()\n",
    "\n",
    "    def __len__(self):\n",
    "        'Denotes the number of batches per epoch'\n",
    "        return int(np.floor(len(self.list_IDs) / self.batch_size))\n",
    "\n",
    "    def __getitem__(self, index):\n",
    "        'Generate one batch of data'\n",
    "        # Generate indexes of the batch\n",
    "        indexes = self.indexes[index * self.batch_size:(index + 1) * self.batch_size]\n",
    "\n",
    "        # Find list of IDs\n",
    "        Batch_ids = [self.list_IDs[k] for k in indexes]\n",
    "\n",
    "        # Generate data\n",
    "        X, y = self.__data_generation(Batch_ids)\n",
    "\n",
    "        return X, y\n",
    "\n",
    "    def on_epoch_end(self):\n",
    "        'Updates indexes after each epoch'\n",
    "        self.indexes = np.arange(len(self.list_IDs))\n",
    "        if self.shuffle:\n",
    "            np.random.shuffle(self.indexes)\n",
    "\n",
    "    def __data_generation(self, Batch_ids):\n",
    "        'Generates data containing batch_size samples'\n",
    "        # Initialization\n",
    "        X = np.zeros((self.batch_size, *self.dim, self.n_channels))  # Shape: (batch_size, IMG_SIZE, IMG_SIZE, n_channels)\n",
    "        y = np.zeros((self.batch_size, *self.dim))  # Shape: (batch_size, IMG_SIZE, IMG_SIZE)\n",
    "\n",
    "        # Generate data\n",
    "        for c, i in enumerate(Batch_ids):\n",
    "            case_path = os.path.join(TRAIN_DATASET_PATH2, i)\n",
    "\n",
    "            for index in range(1, 21):  # Assuming 20 images per case\n",
    "                img_path = os.path.join(case_path, f'{i}_{index}.tif')\n",
    "                mask_path = os.path.join(case_path, f'{i}_{index}_mask.tif')\n",
    "\n",
    "                # Check if TIF files exist\n",
    "                if not (os.path.exists(img_path) and os.path.exists(mask_path)):\n",
    "                    raise FileNotFoundError(f\"One or more files not found for ID '{i}' at index {index}.\")\n",
    "\n",
    "                # Load images\n",
    "                img = cv2.imread(img_path, cv2.IMREAD_GRAYSCALE)  # Read as grayscale\n",
    "                mask = cv2.imread(mask_path, cv2.IMREAD_GRAYSCALE)  # Read as grayscale\n",
    "\n",
    "                # Resize images to target dimensions\n",
    "                img_resized = cv2.resize(img, (IMG_SIZE, IMG_SIZE))\n",
    "                mask_resized = cv2.resize(mask, (IMG_SIZE, IMG_SIZE))\n",
    "\n",
    "                # Store the images in the batch\n",
    "                X[c, :, :, 0] = img_resized  # Assuming first channel is the image\n",
    "                X[c, :, :, 1] = img_resized  # Adjust as needed for multiple channels\n",
    "\n",
    "                # Create a binary mask (or one-hot encoded mask if needed)\n",
    "                y[c] = mask_resized  # Update as necessary based on how you want to process segmentation\n",
    "\n",
    "        # Generate masks (if using one-hot encoding, adjust as necessary)\n",
    "        y[y == 4] = 3  # Modify segmentation as per your original logic\n",
    "        mask = tf.one_hot(y, 4)  # One-hot encode the mask\n",
    "        Y = tf.image.resize(mask, (IMG_SIZE, IMG_SIZE))\n",
    "\n",
    "        return X / np.max(X), Y  # Normalize X to [0,1]\n",
    "\n",
    "\n"
   ]
  },
  {
   "cell_type": "code",
   "execution_count": 8,
   "id": "c2bcab74",
   "metadata": {
    "execution": {
     "iopub.execute_input": "2024-10-13T20:32:35.090693Z",
     "iopub.status.busy": "2024-10-13T20:32:35.090431Z",
     "iopub.status.idle": "2024-10-13T20:32:35.099931Z",
     "shell.execute_reply": "2024-10-13T20:32:35.099165Z"
    },
    "papermill": {
     "duration": 0.021012,
     "end_time": "2024-10-13T20:32:35.101818",
     "exception": false,
     "start_time": "2024-10-13T20:32:35.080806",
     "status": "completed"
    },
    "tags": []
   },
   "outputs": [],
   "source": [
    "class CombinedDataGenerator(keras.utils.Sequence):\n",
    "    'Generates data for Keras from both DataGenerator and TIFDataGenerator'\n",
    "    \n",
    "    def __init__(self, data_gen_1, data_gen_2):\n",
    "        'Initialization'\n",
    "        self.data_gen_1 = data_gen_1\n",
    "        self.data_gen_2 = data_gen_2\n",
    "        self.on_epoch_end()\n",
    "\n",
    "    def __len__(self):\n",
    "        'Denotes the number of batches per epoch'\n",
    "        return max(len(self.data_gen_1), len(self.data_gen_2))\n",
    "\n",
    "    def __getitem__(self, index):\n",
    "        'Generate one batch of data'\n",
    "        # Get data from the first generator\n",
    "        if index < len(self.data_gen_1):\n",
    "            X1, y1 = self.data_gen_1[index]\n",
    "        else:\n",
    "            X1, y1 = None, None  # Or handle this case as needed\n",
    "\n",
    "        # Get data from the second generator\n",
    "        if index < len(self.data_gen_2):\n",
    "            X2, y2 = self.data_gen_2[index]\n",
    "        else:\n",
    "            X2, y2 = None, None  # Or handle this case as needed\n",
    "\n",
    "        # Concatenate the results\n",
    "        if X1 is not None and X2 is not None:\n",
    "            X = np.concatenate((X1, X2), axis=0)  # Concatenate along the first axis\n",
    "            y = np.concatenate((y1, y2), axis=0)  # Concatenate along the first axis\n",
    "        elif X1 is not None:\n",
    "            X, y = X1, y1\n",
    "        elif X2 is not None:\n",
    "            X, y = X2, y2\n",
    "        else:\n",
    "            X, y = None, None  # Handle case where both are None\n",
    "\n",
    "        return X, y\n",
    "\n",
    "    def on_epoch_end(self):\n",
    "        'Updates indexes after each epoch'\n",
    "        self.data_gen_1.on_epoch_end()\n",
    "        self.data_gen_2.on_epoch_end()"
   ]
  },
  {
   "cell_type": "code",
   "execution_count": 9,
   "id": "2a8db553",
   "metadata": {
    "execution": {
     "iopub.execute_input": "2024-10-13T20:32:35.120633Z",
     "iopub.status.busy": "2024-10-13T20:32:35.120327Z",
     "iopub.status.idle": "2024-10-13T20:32:35.136383Z",
     "shell.execute_reply": "2024-10-13T20:32:35.135527Z"
    },
    "papermill": {
     "duration": 0.027836,
     "end_time": "2024-10-13T20:32:35.138389",
     "exception": false,
     "start_time": "2024-10-13T20:32:35.110553",
     "status": "completed"
    },
    "tags": []
   },
   "outputs": [],
   "source": [
    "import tensorflow as tf\n",
    "from tensorflow.keras import backend as K\n",
    "\n",
    "# Dice coefficient for 4 classes\n",
    "def dice_coef(y_true, y_pred, smooth=1.0):\n",
    "    class_num = 4\n",
    "    total_loss = 0.0  # Initialize total_loss outside the loop\n",
    "    for i in range(class_num):\n",
    "        # Use tf.keras.backend.flatten instead of K.flatten\n",
    "        y_true_f = tf.keras.backend.flatten(y_true[:, :, :, i])\n",
    "        y_pred_f = tf.keras.backend.flatten(y_pred[:, :, :, i])\n",
    "        intersection = K.sum(y_true_f * y_pred_f)\n",
    "        loss = (2. * intersection + smooth) / (K.sum(y_true_f) + K.sum(y_pred_f) + smooth)\n",
    "        total_loss += loss  # Accumulate the loss\n",
    "    return total_loss / class_num  # Return the mean Dice coefficient\n",
    "\n",
    "# Precision metric\n",
    "def precision(y_true, y_pred):\n",
    "    true_positives = K.sum(K.round(K.clip(y_true * y_pred, 0, 1)))\n",
    "    predicted_positives = K.sum(K.round(K.clip(y_pred, 0, 1)))\n",
    "    return true_positives / (predicted_positives + K.epsilon())\n",
    "\n",
    "# Sensitivity metric\n",
    "def sensitivity(y_true, y_pred):\n",
    "    true_positives = K.sum(K.round(K.clip(y_true * y_pred, 0, 1)))\n",
    "    possible_positives = K.sum(K.round(K.clip(y_true, 0, 1)))\n",
    "    return true_positives / (possible_positives + K.epsilon())\n",
    "\n",
    "# Specificity metric\n",
    "def specificity(y_true, y_pred):\n",
    "    true_negatives = K.sum(K.round(K.clip((1 - y_true) * (1 - y_pred), 0, 1)))\n",
    "    possible_negatives = K.sum(K.round(K.clip(1 - y_true, 0, 1)))\n",
    "    return true_negatives / (possible_negatives + K.epsilon())\n",
    "\n",
    "# Dice coefficient for necrotic tissue\n",
    "def dice_coef_necrotic(y_true, y_pred, epsilon=1e-6):\n",
    "    intersection = K.sum(K.abs(y_true[:, :, :, 1] * y_pred[:, :, :, 1]))\n",
    "    return (2. * intersection) / (K.sum(K.square(y_true[:, :, :, 1])) + K.sum(K.square(y_pred[:, :, :, 1])) + epsilon)\n",
    "\n",
    "# Dice coefficient for edema\n",
    "def dice_coef_edema(y_true, y_pred, epsilon=1e-6):\n",
    "    intersection = K.sum(K.abs(y_true[:, :, :, 2] * y_pred[:, :, :, 2]))\n",
    "    return (2. * intersection) / (K.sum(K.square(y_true[:, :, :, 2])) + K.sum(K.square(y_pred[:, :, :, 2])) + epsilon)\n",
    "\n",
    "# Dice coefficient for enhancing tumor\n",
    "def dice_coef_enhancing(y_true, y_pred, epsilon=1e-6):\n",
    "    intersection = K.sum(K.abs(y_true[:, :, :, 3] * y_pred[:, :, :, 3]))\n",
    "    return (2. * intersection) / (K.sum(K.square(y_true[:, :, :, 3])) + K.sum(K.square(y_pred[:, :, :, 3])) + epsilon)\n"
   ]
  },
  {
   "cell_type": "code",
   "execution_count": 10,
   "id": "8e483417",
   "metadata": {
    "execution": {
     "iopub.execute_input": "2024-10-13T20:32:35.157283Z",
     "iopub.status.busy": "2024-10-13T20:32:35.157010Z",
     "iopub.status.idle": "2024-10-13T20:32:35.174204Z",
     "shell.execute_reply": "2024-10-13T20:32:35.173340Z"
    },
    "papermill": {
     "duration": 0.028844,
     "end_time": "2024-10-13T20:32:35.176058",
     "exception": false,
     "start_time": "2024-10-13T20:32:35.147214",
     "status": "completed"
    },
    "tags": []
   },
   "outputs": [],
   "source": [
    "\n",
    "def build_unet(inputs, ker_init, dropout):\n",
    "    inputs = Input(shape=(128, 128, 2))\n",
    "    conv1 = Conv2D(32, 3, activation='relu', padding='same', kernel_initializer=ker_init)(inputs)\n",
    "    conv1 = Conv2D(32, 3, activation='relu', padding='same', kernel_initializer=ker_init)(conv1)\n",
    "\n",
    "    pool = MaxPooling2D(pool_size=(2, 2))(conv1)\n",
    "    conv = Conv2D(64, 3, activation='relu', padding='same', kernel_initializer=ker_init)(pool)\n",
    "    conv = Conv2D(64, 3, activation='relu', padding='same', kernel_initializer=ker_init)(conv)\n",
    "\n",
    "    pool1 = MaxPooling2D(pool_size=(2, 2))(conv)\n",
    "    conv2 = Conv2D(128, 3, activation='relu', padding='same', kernel_initializer=ker_init)(pool1)\n",
    "    conv2 = Conv2D(128, 3, activation='relu', padding='same', kernel_initializer=ker_init)(conv2)\n",
    "\n",
    "    pool2 = MaxPooling2D(pool_size=(2, 2))(conv2)\n",
    "    conv3 = Conv2D(256, 3, activation='relu', padding='same', kernel_initializer=ker_init)(pool2)\n",
    "    conv3 = Conv2D(256, 3, activation='relu', padding='same', kernel_initializer=ker_init)(conv3)\n",
    "\n",
    "    pool4 = MaxPooling2D(pool_size=(2, 2))(conv3)\n",
    "    conv5 = Conv2D(512, 3, activation='relu', padding='same', kernel_initializer=ker_init)(pool4)\n",
    "    conv5 = Conv2D(512, 3, activation='relu', padding='same', kernel_initializer=ker_init)(conv5)\n",
    "    drop5 = Dropout(dropout)(conv5)\n",
    "\n",
    "    up7 = Conv2D(256, 2, activation='relu', padding='same', kernel_initializer=ker_init)(UpSampling2D(size=(2, 2))(drop5))\n",
    "    merge7 = concatenate([conv3, up7], axis=3)\n",
    "    conv7 = Conv2D(256, 3, activation='relu', padding='same', kernel_initializer=ker_init)(merge7)\n",
    "    conv7 = Conv2D(256, 3, activation='relu', padding='same', kernel_initializer=ker_init)(conv7)\n",
    "\n",
    "    up8 = Conv2D(128, 2, activation='relu', padding='same', kernel_initializer=ker_init)(UpSampling2D(size=(2, 2))(conv7))\n",
    "    merge8 = concatenate([conv2, up8], axis=3)\n",
    "    conv8 = Conv2D(128, 3, activation='relu', padding='same', kernel_initializer=ker_init)(merge8)\n",
    "    conv8 = Conv2D(128, 3, activation='relu', padding='same', kernel_initializer=ker_init)(conv8)\n",
    "\n",
    "    up9 = Conv2D(64, 2, activation='relu', padding='same', kernel_initializer=ker_init)(UpSampling2D(size=(2, 2))(conv8))\n",
    "    merge9 = concatenate([conv, up9], axis=3)\n",
    "    conv9 = Conv2D(64, 3, activation='relu', padding='same', kernel_initializer=ker_init)(merge9)\n",
    "    conv9 = Conv2D(64, 3, activation='relu', padding='same', kernel_initializer=ker_init)(conv9)\n",
    "\n",
    "    up = Conv2D(32, 2, activation='relu', padding='same', kernel_initializer=ker_init)(UpSampling2D(size=(2, 2))(conv9))\n",
    "    merge = concatenate([conv1, up], axis=3)\n",
    "    conv = Conv2D(32, 3, activation='relu', padding='same', kernel_initializer=ker_init)(merge)\n",
    "    conv = Conv2D(32, 3, activation='relu', padding='same', kernel_initializer=ker_init)(conv)\n",
    "\n",
    "    conv10 = Conv2D(4, (1, 1), activation='softmax')(conv)\n",
    "\n",
    "    return Model(inputs=inputs, outputs=conv10)\n"
   ]
  },
  {
   "cell_type": "code",
   "execution_count": 11,
   "id": "26b830b9",
   "metadata": {
    "execution": {
     "iopub.execute_input": "2024-10-13T20:32:35.195370Z",
     "iopub.status.busy": "2024-10-13T20:32:35.195054Z",
     "iopub.status.idle": "2024-10-13T20:32:35.200668Z",
     "shell.execute_reply": "2024-10-13T20:32:35.199831Z"
    },
    "papermill": {
     "duration": 0.017347,
     "end_time": "2024-10-13T20:32:35.202587",
     "exception": false,
     "start_time": "2024-10-13T20:32:35.185240",
     "status": "completed"
    },
    "tags": []
   },
   "outputs": [],
   "source": [
    "training_generator1 = DataGenerator(train_ids1)\n",
    "valid_generator1 = DataGenerator(val_ids1)\n",
    "test_generator1 = DataGenerator(test_ids1)\n",
    "\n",
    "training_generator2 = TIFDataGenerator(train_ids2)\n",
    "valid_generator2 = TIFDataGenerator(val_ids2)\n",
    "test_generator2 = TIFDataGenerator(test_ids2)\n",
    "\n",
    "training_generator = CombinedDataGenerator(training_generator1, training_generator2)\n",
    "valid_generator = CombinedDataGenerator(training_generator1, training_generator2)\n",
    "test_generator = CombinedDataGenerator(training_generator1, training_generator2)\n"
   ]
  },
  {
   "cell_type": "code",
   "execution_count": 12,
   "id": "3e252f8e",
   "metadata": {
    "execution": {
     "iopub.execute_input": "2024-10-13T20:32:35.221549Z",
     "iopub.status.busy": "2024-10-13T20:32:35.221247Z",
     "iopub.status.idle": "2024-10-13T20:32:35.226130Z",
     "shell.execute_reply": "2024-10-13T20:32:35.225355Z"
    },
    "papermill": {
     "duration": 0.016493,
     "end_time": "2024-10-13T20:32:35.227983",
     "exception": false,
     "start_time": "2024-10-13T20:32:35.211490",
     "status": "completed"
    },
    "tags": []
   },
   "outputs": [],
   "source": [
    "callbacks = [\n",
    "      keras.callbacks.ReduceLROnPlateau(monitor='val_loss', factor=0.2,\n",
    "                            patience=2, min_lr=0.000001, verbose=1),\n",
    "      keras.callbacks.ModelCheckpoint(filepath = '/kaggle/working/model.weights.h5',\n",
    "                          verbose=1, save_best_only=True, save_weights_only = True),\n",
    "      CSVLogger('/kaggle/working/training.log', separator=',', append=False)\n",
    "    ]"
   ]
  },
  {
   "cell_type": "code",
   "execution_count": 13,
   "id": "c4bfe185",
   "metadata": {
    "execution": {
     "iopub.execute_input": "2024-10-13T20:32:35.247154Z",
     "iopub.status.busy": "2024-10-13T20:32:35.246887Z",
     "iopub.status.idle": "2024-10-13T20:32:35.441346Z",
     "shell.execute_reply": "2024-10-13T20:32:35.440202Z"
    },
    "papermill": {
     "duration": 0.206256,
     "end_time": "2024-10-13T20:32:35.443371",
     "exception": false,
     "start_time": "2024-10-13T20:32:35.237115",
     "status": "completed"
    },
    "tags": []
   },
   "outputs": [
    {
     "data": {
      "text/plain": [
       "0"
      ]
     },
     "execution_count": 13,
     "metadata": {},
     "output_type": "execute_result"
    }
   ],
   "source": [
    "import gc\n",
    "gc.collect()"
   ]
  },
  {
   "cell_type": "code",
   "execution_count": 14,
   "id": "eb31de90",
   "metadata": {
    "execution": {
     "iopub.execute_input": "2024-10-13T20:32:35.463193Z",
     "iopub.status.busy": "2024-10-13T20:32:35.462883Z",
     "iopub.status.idle": "2024-10-13T20:32:36.393209Z",
     "shell.execute_reply": "2024-10-13T20:32:36.391706Z"
    },
    "papermill": {
     "duration": 0.943662,
     "end_time": "2024-10-13T20:32:36.396535",
     "exception": false,
     "start_time": "2024-10-13T20:32:35.452873",
     "status": "completed"
    },
    "tags": []
   },
   "outputs": [],
   "source": [
    "input_layer = Input((IMG_SIZE, IMG_SIZE, 2))\n",
    "\n",
    "model = build_unet(input_layer, 'he_normal', 0.2)\n",
    "\n",
    "model.compile(loss=\"categorical_crossentropy\",\n",
    "              optimizer=keras.optimizers.Adam(learning_rate=0.001),\n",
    "              metrics = ['accuracy',tf.keras.metrics.MeanIoU(num_classes=4), dice_coef, precision, sensitivity, specificity, dice_coef_necrotic, dice_coef_edema ,dice_coef_enhancing])"
   ]
  },
  {
   "cell_type": "code",
   "execution_count": 15,
   "id": "3000bf4f",
   "metadata": {
    "execution": {
     "iopub.execute_input": "2024-10-13T20:32:36.422292Z",
     "iopub.status.busy": "2024-10-13T20:32:36.421887Z",
     "iopub.status.idle": "2024-10-13T21:35:18.505900Z",
     "shell.execute_reply": "2024-10-13T21:35:18.504926Z"
    },
    "papermill": {
     "duration": 3762.462139,
     "end_time": "2024-10-13T21:35:18.871033",
     "exception": false,
     "start_time": "2024-10-13T20:32:36.408894",
     "status": "completed"
    },
    "tags": []
   },
   "outputs": [
    {
     "name": "stdout",
     "output_type": "stream",
     "text": [
      "Epoch 1/30\n"
     ]
    },
    {
     "name": "stderr",
     "output_type": "stream",
     "text": [
      "/opt/conda/lib/python3.10/site-packages/keras/src/trainers/data_adapters/py_dataset_adapter.py:121: UserWarning: Your `PyDataset` class should call `super().__init__(**kwargs)` in its constructor. `**kwargs` can include `workers`, `use_multiprocessing`, `max_queue_size`. Do not pass these arguments to `fit()`, as they will be ignored.\n",
      "  self._warn_if_super_not_called()\n",
      "WARNING: All log messages before absl::InitializeLog() is called are written to STDERR\n",
      "I0000 00:00:1728851571.686596      64 service.cc:145] XLA service 0x7e804c003790 initialized for platform CUDA (this does not guarantee that XLA will be used). Devices:\n",
      "I0000 00:00:1728851571.686661      64 service.cc:153]   StreamExecutor device (0): Tesla P100-PCIE-16GB, Compute Capability 6.0\n",
      "I0000 00:00:1728851599.582537      64 device_compiler.h:188] Compiled cluster using XLA!  This line is logged at most once for the lifetime of the process.\n"
     ]
    },
    {
     "name": "stdout",
     "output_type": "stream",
     "text": [
      "\u001b[1m250/324\u001b[0m \u001b[32m━━━━━━━━━━━━━━━\u001b[0m\u001b[37m━━━━━\u001b[0m \u001b[1m53s\u001b[0m 728ms/step - accuracy: 0.9578 - dice_coef: 0.2462 - dice_coef_edema: 0.0789 - dice_coef_enhancing: 0.0261 - dice_coef_necrotic: 0.0484 - loss: 0.4031 - mean_io_u: 0.4827 - precision: 0.9572 - sensitivity: 0.9198 - specificity: 0.9906"
     ]
    },
    {
     "name": "stderr",
     "output_type": "stream",
     "text": [
      "/opt/conda/lib/python3.10/contextlib.py:153: UserWarning: Your input ran out of data; interrupting training. Make sure that your dataset or generator can generate at least `steps_per_epoch * epochs` batches. You may need to use the `.repeat()` function when building your dataset.\n",
      "  self.gen.throw(typ, value, traceback)\n"
     ]
    },
    {
     "name": "stdout",
     "output_type": "stream",
     "text": [
      "\n",
      "Epoch 1: val_loss improved from inf to 0.08640, saving model to /kaggle/working/model.weights.h5\n",
      "\u001b[1m324/324\u001b[0m \u001b[32m━━━━━━━━━━━━━━━━━━━━\u001b[0m\u001b[37m\u001b[0m \u001b[1m272s\u001b[0m 717ms/step - accuracy: 0.9627 - dice_coef: 0.2496 - dice_coef_edema: 0.0860 - dice_coef_enhancing: 0.0278 - dice_coef_necrotic: 0.0514 - loss: 0.3554 - mean_io_u: 0.4851 - precision: 0.9622 - sensitivity: 0.9302 - specificity: 0.9914 - val_accuracy: 0.9811 - val_dice_coef: 0.2836 - val_dice_coef_edema: 0.1695 - val_dice_coef_enhancing: 0.0365 - val_dice_coef_necrotic: 0.0722 - val_loss: 0.0864 - val_mean_io_u: 0.4988 - val_precision: 0.9817 - val_sensitivity: 0.9804 - val_specificity: 0.9939 - learning_rate: 0.0010\n",
      "Epoch 2/30\n",
      "\u001b[1m250/324\u001b[0m \u001b[32m━━━━━━━━━━━━━━━\u001b[0m\u001b[37m━━━━━\u001b[0m \u001b[1m22s\u001b[0m 301ms/step - accuracy: 0.9836 - dice_coef: 0.2767 - dice_coef_edema: 0.1362 - dice_coef_enhancing: 0.0394 - dice_coef_necrotic: 0.0700 - loss: 0.0717 - mean_io_u: 0.5033 - precision: 0.9846 - sensitivity: 0.9824 - specificity: 0.9949\n",
      "Epoch 2: val_loss improved from 0.08640 to 0.07683, saving model to /kaggle/working/model.weights.h5\n",
      "\u001b[1m324/324\u001b[0m \u001b[32m━━━━━━━━━━━━━━━━━━━━\u001b[0m\u001b[37m\u001b[0m \u001b[1m121s\u001b[0m 368ms/step - accuracy: 0.9834 - dice_coef: 0.2765 - dice_coef_edema: 0.1359 - dice_coef_enhancing: 0.0397 - dice_coef_necrotic: 0.0706 - loss: 0.0729 - mean_io_u: 0.5026 - precision: 0.9844 - sensitivity: 0.9821 - specificity: 0.9948 - val_accuracy: 0.9836 - val_dice_coef: 0.2638 - val_dice_coef_edema: 0.0491 - val_dice_coef_enhancing: 0.0242 - val_dice_coef_necrotic: 0.0362 - val_loss: 0.0768 - val_mean_io_u: 0.4988 - val_precision: 0.9836 - val_sensitivity: 0.9836 - val_specificity: 0.9945 - learning_rate: 0.0010\n",
      "Epoch 3/30\n",
      "\u001b[1m250/324\u001b[0m \u001b[32m━━━━━━━━━━━━━━━\u001b[0m\u001b[37m━━━━━\u001b[0m \u001b[1m22s\u001b[0m 300ms/step - accuracy: 0.9832 - dice_coef: 0.2745 - dice_coef_edema: 0.1160 - dice_coef_enhancing: 0.0489 - dice_coef_necrotic: 0.0677 - loss: 0.0735 - mean_io_u: 0.4911 - precision: 0.9832 - sensitivity: 0.9832 - specificity: 0.9944\n",
      "Epoch 3: val_loss improved from 0.07683 to 0.06531, saving model to /kaggle/working/model.weights.h5\n",
      "\u001b[1m324/324\u001b[0m \u001b[32m━━━━━━━━━━━━━━━━━━━━\u001b[0m\u001b[37m\u001b[0m \u001b[1m120s\u001b[0m 366ms/step - accuracy: 0.9833 - dice_coef: 0.2748 - dice_coef_edema: 0.1175 - dice_coef_enhancing: 0.0483 - dice_coef_necrotic: 0.0685 - loss: 0.0736 - mean_io_u: 0.4929 - precision: 0.9833 - sensitivity: 0.9833 - specificity: 0.9944 - val_accuracy: 0.9836 - val_dice_coef: 0.2869 - val_dice_coef_edema: 0.1592 - val_dice_coef_enhancing: 0.0586 - val_dice_coef_necrotic: 0.0974 - val_loss: 0.0653 - val_mean_io_u: 0.5000 - val_precision: 0.9838 - val_sensitivity: 0.9836 - val_specificity: 0.9946 - learning_rate: 0.0010\n",
      "Epoch 4/30\n",
      "\u001b[1m250/324\u001b[0m \u001b[32m━━━━━━━━━━━━━━━\u001b[0m\u001b[37m━━━━━\u001b[0m \u001b[1m22s\u001b[0m 300ms/step - accuracy: 0.9831 - dice_coef: 0.2809 - dice_coef_edema: 0.1513 - dice_coef_enhancing: 0.0529 - dice_coef_necrotic: 0.0831 - loss: 0.0722 - mean_io_u: 0.4836 - precision: 0.9836 - sensitivity: 0.9825 - specificity: 0.9945\n",
      "Epoch 4: val_loss improved from 0.06531 to 0.06145, saving model to /kaggle/working/model.weights.h5\n",
      "\u001b[1m324/324\u001b[0m \u001b[32m━━━━━━━━━━━━━━━━━━━━\u001b[0m\u001b[37m\u001b[0m \u001b[1m120s\u001b[0m 368ms/step - accuracy: 0.9833 - dice_coef: 0.2812 - dice_coef_edema: 0.1515 - dice_coef_enhancing: 0.0524 - dice_coef_necrotic: 0.0837 - loss: 0.0716 - mean_io_u: 0.4873 - precision: 0.9838 - sensitivity: 0.9825 - specificity: 0.9946 - val_accuracy: 0.9836 - val_dice_coef: 0.2939 - val_dice_coef_edema: 0.1864 - val_dice_coef_enhancing: 0.0725 - val_dice_coef_necrotic: 0.1119 - val_loss: 0.0615 - val_mean_io_u: 0.4999 - val_precision: 0.9841 - val_sensitivity: 0.9835 - val_specificity: 0.9947 - learning_rate: 0.0010\n",
      "Epoch 5/30\n",
      "\u001b[1m250/324\u001b[0m \u001b[32m━━━━━━━━━━━━━━━\u001b[0m\u001b[37m━━━━━\u001b[0m \u001b[1m22s\u001b[0m 301ms/step - accuracy: 0.9838 - dice_coef: 0.2932 - dice_coef_edema: 0.1784 - dice_coef_enhancing: 0.0714 - dice_coef_necrotic: 0.1163 - loss: 0.0631 - mean_io_u: 0.4828 - precision: 0.9852 - sensitivity: 0.9822 - specificity: 0.9951\n",
      "Epoch 5: val_loss did not improve from 0.06145\n",
      "\u001b[1m324/324\u001b[0m \u001b[32m━━━━━━━━━━━━━━━━━━━━\u001b[0m\u001b[37m\u001b[0m \u001b[1m120s\u001b[0m 365ms/step - accuracy: 0.9837 - dice_coef: 0.2926 - dice_coef_edema: 0.1776 - dice_coef_enhancing: 0.0705 - dice_coef_necrotic: 0.1147 - loss: 0.0640 - mean_io_u: 0.4867 - precision: 0.9851 - sensitivity: 0.9819 - specificity: 0.9951 - val_accuracy: 0.9836 - val_dice_coef: 0.2908 - val_dice_coef_edema: 0.1826 - val_dice_coef_enhancing: 0.0989 - val_dice_coef_necrotic: 0.1391 - val_loss: 0.0746 - val_mean_io_u: 0.5000 - val_precision: 0.9886 - val_sensitivity: 0.9688 - val_specificity: 0.9962 - learning_rate: 0.0010\n",
      "Epoch 6/30\n",
      "\u001b[1m250/324\u001b[0m \u001b[32m━━━━━━━━━━━━━━━\u001b[0m\u001b[37m━━━━━\u001b[0m \u001b[1m22s\u001b[0m 301ms/step - accuracy: 0.9827 - dice_coef: 0.2838 - dice_coef_edema: 0.1516 - dice_coef_enhancing: 0.0544 - dice_coef_necrotic: 0.0970 - loss: 0.0729 - mean_io_u: 0.4662 - precision: 0.9843 - sensitivity: 0.9799 - specificity: 0.9948\n",
      "Epoch 6: ReduceLROnPlateau reducing learning rate to 0.00020000000949949026.\n",
      "\n",
      "Epoch 6: val_loss did not improve from 0.06145\n",
      "\u001b[1m324/324\u001b[0m \u001b[32m━━━━━━━━━━━━━━━━━━━━\u001b[0m\u001b[37m\u001b[0m \u001b[1m120s\u001b[0m 365ms/step - accuracy: 0.9828 - dice_coef: 0.2841 - dice_coef_edema: 0.1536 - dice_coef_enhancing: 0.0556 - dice_coef_necrotic: 0.0971 - loss: 0.0728 - mean_io_u: 0.4739 - precision: 0.9844 - sensitivity: 0.9802 - specificity: 0.9948 - val_accuracy: 0.9836 - val_dice_coef: 0.3015 - val_dice_coef_edema: 0.2453 - val_dice_coef_enhancing: 0.1250 - val_dice_coef_necrotic: 0.1681 - val_loss: 0.0676 - val_mean_io_u: 0.5000 - val_precision: 0.9874 - val_sensitivity: 0.9809 - val_specificity: 0.9958 - learning_rate: 0.0010\n",
      "Epoch 7/30\n",
      "\u001b[1m250/324\u001b[0m \u001b[32m━━━━━━━━━━━━━━━\u001b[0m\u001b[37m━━━━━\u001b[0m \u001b[1m21s\u001b[0m 296ms/step - accuracy: 0.9853 - dice_coef: 0.3041 - dice_coef_edema: 0.2136 - dice_coef_enhancing: 0.0959 - dice_coef_necrotic: 0.1296 - loss: 0.0564 - mean_io_u: 0.4914 - precision: 0.9875 - sensitivity: 0.9839 - specificity: 0.9958\n",
      "Epoch 7: val_loss improved from 0.06145 to 0.05750, saving model to /kaggle/working/model.weights.h5\n",
      "\u001b[1m324/324\u001b[0m \u001b[32m━━━━━━━━━━━━━━━━━━━━\u001b[0m\u001b[37m\u001b[0m \u001b[1m119s\u001b[0m 363ms/step - accuracy: 0.9850 - dice_coef: 0.3051 - dice_coef_edema: 0.2161 - dice_coef_enhancing: 0.0964 - dice_coef_necrotic: 0.1305 - loss: 0.0571 - mean_io_u: 0.4934 - precision: 0.9873 - sensitivity: 0.9835 - specificity: 0.9958 - val_accuracy: 0.9840 - val_dice_coef: 0.3105 - val_dice_coef_edema: 0.2154 - val_dice_coef_enhancing: 0.0857 - val_dice_coef_necrotic: 0.1257 - val_loss: 0.0575 - val_mean_io_u: 0.5000 - val_precision: 0.9868 - val_sensitivity: 0.9827 - val_specificity: 0.9956 - learning_rate: 2.0000e-04\n",
      "Epoch 8/30\n",
      "\u001b[1m250/324\u001b[0m \u001b[32m━━━━━━━━━━━━━━━\u001b[0m\u001b[37m━━━━━\u001b[0m \u001b[1m22s\u001b[0m 302ms/step - accuracy: 0.9838 - dice_coef: 0.3136 - dice_coef_edema: 0.2383 - dice_coef_enhancing: 0.1131 - dice_coef_necrotic: 0.1486 - loss: 0.0579 - mean_io_u: 0.5048 - precision: 0.9878 - sensitivity: 0.9813 - specificity: 0.9960\n",
      "Epoch 8: val_loss improved from 0.05750 to 0.05714, saving model to /kaggle/working/model.weights.h5\n",
      "\u001b[1m324/324\u001b[0m \u001b[32m━━━━━━━━━━━━━━━━━━━━\u001b[0m\u001b[37m\u001b[0m \u001b[1m121s\u001b[0m 368ms/step - accuracy: 0.9839 - dice_coef: 0.3153 - dice_coef_edema: 0.2441 - dice_coef_enhancing: 0.1150 - dice_coef_necrotic: 0.1505 - loss: 0.0573 - mean_io_u: 0.5037 - precision: 0.9880 - sensitivity: 0.9813 - specificity: 0.9960 - val_accuracy: 0.9845 - val_dice_coef: 0.3168 - val_dice_coef_edema: 0.2368 - val_dice_coef_enhancing: 0.0793 - val_dice_coef_necrotic: 0.1033 - val_loss: 0.0571 - val_mean_io_u: 0.5000 - val_precision: 0.9864 - val_sensitivity: 0.9833 - val_specificity: 0.9955 - learning_rate: 2.0000e-04\n",
      "Epoch 9/30\n",
      "\u001b[1m250/324\u001b[0m \u001b[32m━━━━━━━━━━━━━━━\u001b[0m\u001b[37m━━━━━\u001b[0m \u001b[1m22s\u001b[0m 300ms/step - accuracy: 0.9852 - dice_coef: 0.3319 - dice_coef_edema: 0.3095 - dice_coef_enhancing: 0.1229 - dice_coef_necrotic: 0.1581 - loss: 0.0505 - mean_io_u: 0.5113 - precision: 0.9893 - sensitivity: 0.9815 - specificity: 0.9965\n",
      "Epoch 9: val_loss improved from 0.05714 to 0.05095, saving model to /kaggle/working/model.weights.h5\n",
      "\u001b[1m324/324\u001b[0m \u001b[32m━━━━━━━━━━━━━━━━━━━━\u001b[0m\u001b[37m\u001b[0m \u001b[1m119s\u001b[0m 364ms/step - accuracy: 0.9852 - dice_coef: 0.3321 - dice_coef_edema: 0.3094 - dice_coef_enhancing: 0.1239 - dice_coef_necrotic: 0.1593 - loss: 0.0510 - mean_io_u: 0.5087 - precision: 0.9893 - sensitivity: 0.9815 - specificity: 0.9965 - val_accuracy: 0.9855 - val_dice_coef: 0.3442 - val_dice_coef_edema: 0.3886 - val_dice_coef_enhancing: 0.1490 - val_dice_coef_necrotic: 0.2272 - val_loss: 0.0510 - val_mean_io_u: 0.5000 - val_precision: 0.9918 - val_sensitivity: 0.9794 - val_specificity: 0.9973 - learning_rate: 2.0000e-04\n",
      "Epoch 10/30\n",
      "\u001b[1m250/324\u001b[0m \u001b[32m━━━━━━━━━━━━━━━\u001b[0m\u001b[37m━━━━━\u001b[0m \u001b[1m22s\u001b[0m 302ms/step - accuracy: 0.9857 - dice_coef: 0.3469 - dice_coef_edema: 0.3565 - dice_coef_enhancing: 0.1403 - dice_coef_necrotic: 0.2166 - loss: 0.0494 - mean_io_u: 0.4936 - precision: 0.9905 - sensitivity: 0.9814 - specificity: 0.9969\n",
      "Epoch 10: val_loss improved from 0.05095 to 0.04550, saving model to /kaggle/working/model.weights.h5\n",
      "\u001b[1m324/324\u001b[0m \u001b[32m━━━━━━━━━━━━━━━━━━━━\u001b[0m\u001b[37m\u001b[0m \u001b[1m142s\u001b[0m 365ms/step - accuracy: 0.9857 - dice_coef: 0.3476 - dice_coef_edema: 0.3582 - dice_coef_enhancing: 0.1434 - dice_coef_necrotic: 0.2142 - loss: 0.0494 - mean_io_u: 0.4951 - precision: 0.9905 - sensitivity: 0.9815 - specificity: 0.9968 - val_accuracy: 0.9863 - val_dice_coef: 0.3589 - val_dice_coef_edema: 0.3750 - val_dice_coef_enhancing: 0.1437 - val_dice_coef_necrotic: 0.1895 - val_loss: 0.0455 - val_mean_io_u: 0.5000 - val_precision: 0.9893 - val_sensitivity: 0.9842 - val_specificity: 0.9964 - learning_rate: 2.0000e-04\n",
      "Epoch 11/30\n",
      "\u001b[1m250/324\u001b[0m \u001b[32m━━━━━━━━━━━━━━━\u001b[0m\u001b[37m━━━━━\u001b[0m \u001b[1m22s\u001b[0m 302ms/step - accuracy: 0.9861 - dice_coef: 0.3576 - dice_coef_edema: 0.3724 - dice_coef_enhancing: 0.1660 - dice_coef_necrotic: 0.2107 - loss: 0.0464 - mean_io_u: 0.5127 - precision: 0.9903 - sensitivity: 0.9826 - specificity: 0.9968\n",
      "Epoch 11: val_loss improved from 0.04550 to 0.04151, saving model to /kaggle/working/model.weights.h5\n",
      "\u001b[1m324/324\u001b[0m \u001b[32m━━━━━━━━━━━━━━━━━━━━\u001b[0m\u001b[37m\u001b[0m \u001b[1m119s\u001b[0m 364ms/step - accuracy: 0.9861 - dice_coef: 0.3592 - dice_coef_edema: 0.3766 - dice_coef_enhancing: 0.1702 - dice_coef_necrotic: 0.2124 - loss: 0.0463 - mean_io_u: 0.5098 - precision: 0.9903 - sensitivity: 0.9825 - specificity: 0.9968 - val_accuracy: 0.9869 - val_dice_coef: 0.3842 - val_dice_coef_edema: 0.4448 - val_dice_coef_enhancing: 0.2032 - val_dice_coef_necrotic: 0.2329 - val_loss: 0.0415 - val_mean_io_u: 0.5000 - val_precision: 0.9910 - val_sensitivity: 0.9841 - val_specificity: 0.9970 - learning_rate: 2.0000e-04\n",
      "Epoch 12/30\n",
      "\u001b[1m250/324\u001b[0m \u001b[32m━━━━━━━━━━━━━━━\u001b[0m\u001b[37m━━━━━\u001b[0m \u001b[1m22s\u001b[0m 302ms/step - accuracy: 0.9863 - dice_coef: 0.3771 - dice_coef_edema: 0.4261 - dice_coef_enhancing: 0.2101 - dice_coef_necrotic: 0.2174 - loss: 0.0444 - mean_io_u: 0.5111 - precision: 0.9907 - sensitivity: 0.9832 - specificity: 0.9969\n",
      "Epoch 12: val_loss improved from 0.04151 to 0.03781, saving model to /kaggle/working/model.weights.h5\n",
      "\u001b[1m324/324\u001b[0m \u001b[32m━━━━━━━━━━━━━━━━━━━━\u001b[0m\u001b[37m\u001b[0m \u001b[1m118s\u001b[0m 361ms/step - accuracy: 0.9864 - dice_coef: 0.3776 - dice_coef_edema: 0.4260 - dice_coef_enhancing: 0.2122 - dice_coef_necrotic: 0.2206 - loss: 0.0441 - mean_io_u: 0.5085 - precision: 0.9908 - sensitivity: 0.9832 - specificity: 0.9970 - val_accuracy: 0.9874 - val_dice_coef: 0.4061 - val_dice_coef_edema: 0.4791 - val_dice_coef_enhancing: 0.2640 - val_dice_coef_necrotic: 0.2884 - val_loss: 0.0378 - val_mean_io_u: 0.5000 - val_precision: 0.9928 - val_sensitivity: 0.9836 - val_specificity: 0.9976 - learning_rate: 2.0000e-04\n",
      "Epoch 13/30\n",
      "\u001b[1m250/324\u001b[0m \u001b[32m━━━━━━━━━━━━━━━\u001b[0m\u001b[37m━━━━━\u001b[0m \u001b[1m22s\u001b[0m 302ms/step - accuracy: 0.9875 - dice_coef: 0.3954 - dice_coef_edema: 0.4294 - dice_coef_enhancing: 0.2691 - dice_coef_necrotic: 0.2628 - loss: 0.0380 - mean_io_u: 0.5135 - precision: 0.9925 - sensitivity: 0.9837 - specificity: 0.9975\n",
      "Epoch 13: val_loss improved from 0.03781 to 0.03781, saving model to /kaggle/working/model.weights.h5\n",
      "\u001b[1m324/324\u001b[0m \u001b[32m━━━━━━━━━━━━━━━━━━━━\u001b[0m\u001b[37m\u001b[0m \u001b[1m119s\u001b[0m 364ms/step - accuracy: 0.9874 - dice_coef: 0.3948 - dice_coef_edema: 0.4301 - dice_coef_enhancing: 0.2663 - dice_coef_necrotic: 0.2601 - loss: 0.0386 - mean_io_u: 0.5104 - precision: 0.9923 - sensitivity: 0.9837 - specificity: 0.9975 - val_accuracy: 0.9875 - val_dice_coef: 0.3991 - val_dice_coef_edema: 0.4715 - val_dice_coef_enhancing: 0.2065 - val_dice_coef_necrotic: 0.2376 - val_loss: 0.0378 - val_mean_io_u: 0.5000 - val_precision: 0.9913 - val_sensitivity: 0.9854 - val_specificity: 0.9971 - learning_rate: 2.0000e-04\n",
      "Epoch 14/30\n",
      "\u001b[1m250/324\u001b[0m \u001b[32m━━━━━━━━━━━━━━━\u001b[0m\u001b[37m━━━━━\u001b[0m \u001b[1m22s\u001b[0m 298ms/step - accuracy: 0.9871 - dice_coef: 0.4011 - dice_coef_edema: 0.4586 - dice_coef_enhancing: 0.2775 - dice_coef_necrotic: 0.2590 - loss: 0.0389 - mean_io_u: 0.5088 - precision: 0.9923 - sensitivity: 0.9833 - specificity: 0.9975\n",
      "Epoch 14: val_loss improved from 0.03781 to 0.03372, saving model to /kaggle/working/model.weights.h5\n",
      "\u001b[1m324/324\u001b[0m \u001b[32m━━━━━━━━━━━━━━━━━━━━\u001b[0m\u001b[37m\u001b[0m \u001b[1m119s\u001b[0m 362ms/step - accuracy: 0.9872 - dice_coef: 0.4027 - dice_coef_edema: 0.4626 - dice_coef_enhancing: 0.2807 - dice_coef_necrotic: 0.2608 - loss: 0.0385 - mean_io_u: 0.5068 - precision: 0.9923 - sensitivity: 0.9835 - specificity: 0.9975 - val_accuracy: 0.9884 - val_dice_coef: 0.4286 - val_dice_coef_edema: 0.5256 - val_dice_coef_enhancing: 0.2958 - val_dice_coef_necrotic: 0.2659 - val_loss: 0.0337 - val_mean_io_u: 0.5000 - val_precision: 0.9922 - val_sensitivity: 0.9859 - val_specificity: 0.9974 - learning_rate: 2.0000e-04\n",
      "Epoch 15/30\n",
      "\u001b[1m250/324\u001b[0m \u001b[32m━━━━━━━━━━━━━━━\u001b[0m\u001b[37m━━━━━\u001b[0m \u001b[1m22s\u001b[0m 301ms/step - accuracy: 0.9886 - dice_coef: 0.4153 - dice_coef_edema: 0.4626 - dice_coef_enhancing: 0.3178 - dice_coef_necrotic: 0.2751 - loss: 0.0340 - mean_io_u: 0.5133 - precision: 0.9932 - sensitivity: 0.9851 - specificity: 0.9978\n",
      "Epoch 15: val_loss did not improve from 0.03372\n",
      "\u001b[1m324/324\u001b[0m \u001b[32m━━━━━━━━━━━━━━━━━━━━\u001b[0m\u001b[37m\u001b[0m \u001b[1m119s\u001b[0m 363ms/step - accuracy: 0.9885 - dice_coef: 0.4164 - dice_coef_edema: 0.4669 - dice_coef_enhancing: 0.3221 - dice_coef_necrotic: 0.2735 - loss: 0.0345 - mean_io_u: 0.5103 - precision: 0.9930 - sensitivity: 0.9850 - specificity: 0.9977 - val_accuracy: 0.9879 - val_dice_coef: 0.4151 - val_dice_coef_edema: 0.4343 - val_dice_coef_enhancing: 0.3657 - val_dice_coef_necrotic: 0.2825 - val_loss: 0.0355 - val_mean_io_u: 0.5000 - val_precision: 0.9924 - val_sensitivity: 0.9846 - val_specificity: 0.9975 - learning_rate: 2.0000e-04\n",
      "Epoch 16/30\n",
      "\u001b[1m250/324\u001b[0m \u001b[32m━━━━━━━━━━━━━━━\u001b[0m\u001b[37m━━━━━\u001b[0m \u001b[1m22s\u001b[0m 298ms/step - accuracy: 0.9889 - dice_coef: 0.4335 - dice_coef_edema: 0.5210 - dice_coef_enhancing: 0.3727 - dice_coef_necrotic: 0.2583 - loss: 0.0331 - mean_io_u: 0.4925 - precision: 0.9933 - sensitivity: 0.9855 - specificity: 0.9978\n",
      "Epoch 16: val_loss improved from 0.03372 to 0.03234, saving model to /kaggle/working/model.weights.h5\n",
      "\u001b[1m324/324\u001b[0m \u001b[32m━━━━━━━━━━━━━━━━━━━━\u001b[0m\u001b[37m\u001b[0m \u001b[1m120s\u001b[0m 366ms/step - accuracy: 0.9888 - dice_coef: 0.4341 - dice_coef_edema: 0.5200 - dice_coef_enhancing: 0.3708 - dice_coef_necrotic: 0.2649 - loss: 0.0332 - mean_io_u: 0.4942 - precision: 0.9933 - sensitivity: 0.9855 - specificity: 0.9978 - val_accuracy: 0.9881 - val_dice_coef: 0.4281 - val_dice_coef_edema: 0.4580 - val_dice_coef_enhancing: 0.3211 - val_dice_coef_necrotic: 0.3499 - val_loss: 0.0323 - val_mean_io_u: 0.5000 - val_precision: 0.9942 - val_sensitivity: 0.9836 - val_specificity: 0.9981 - learning_rate: 2.0000e-04\n",
      "Epoch 17/30\n",
      "\u001b[1m250/324\u001b[0m \u001b[32m━━━━━━━━━━━━━━━\u001b[0m\u001b[37m━━━━━\u001b[0m \u001b[1m22s\u001b[0m 304ms/step - accuracy: 0.9883 - dice_coef: 0.4491 - dice_coef_edema: 0.5274 - dice_coef_enhancing: 0.3945 - dice_coef_necrotic: 0.3112 - loss: 0.0321 - mean_io_u: 0.5006 - precision: 0.9940 - sensitivity: 0.9842 - specificity: 0.9980\n",
      "Epoch 17: val_loss improved from 0.03234 to 0.02867, saving model to /kaggle/working/model.weights.h5\n",
      "\u001b[1m324/324\u001b[0m \u001b[32m━━━━━━━━━━━━━━━━━━━━\u001b[0m\u001b[37m\u001b[0m \u001b[1m121s\u001b[0m 368ms/step - accuracy: 0.9885 - dice_coef: 0.4496 - dice_coef_edema: 0.5278 - dice_coef_enhancing: 0.3935 - dice_coef_necrotic: 0.3129 - loss: 0.0318 - mean_io_u: 0.5004 - precision: 0.9940 - sensitivity: 0.9845 - specificity: 0.9980 - val_accuracy: 0.9897 - val_dice_coef: 0.4661 - val_dice_coef_edema: 0.5559 - val_dice_coef_enhancing: 0.4234 - val_dice_coef_necrotic: 0.2931 - val_loss: 0.0287 - val_mean_io_u: 0.5000 - val_precision: 0.9936 - val_sensitivity: 0.9870 - val_specificity: 0.9979 - learning_rate: 2.0000e-04\n",
      "Epoch 18/30\n",
      "\u001b[1m250/324\u001b[0m \u001b[32m━━━━━━━━━━━━━━━\u001b[0m\u001b[37m━━━━━\u001b[0m \u001b[1m22s\u001b[0m 300ms/step - accuracy: 0.9882 - dice_coef: 0.4589 - dice_coef_edema: 0.5488 - dice_coef_enhancing: 0.3811 - dice_coef_necrotic: 0.3321 - loss: 0.0330 - mean_io_u: 0.5215 - precision: 0.9933 - sensitivity: 0.9846 - specificity: 0.9978\n",
      "Epoch 18: val_loss did not improve from 0.02867\n",
      "\u001b[1m324/324\u001b[0m \u001b[32m━━━━━━━━━━━━━━━━━━━━\u001b[0m\u001b[37m\u001b[0m \u001b[1m119s\u001b[0m 363ms/step - accuracy: 0.9884 - dice_coef: 0.4589 - dice_coef_edema: 0.5495 - dice_coef_enhancing: 0.3879 - dice_coef_necrotic: 0.3278 - loss: 0.0325 - mean_io_u: 0.5166 - precision: 0.9934 - sensitivity: 0.9849 - specificity: 0.9978 - val_accuracy: 0.9883 - val_dice_coef: 0.4463 - val_dice_coef_edema: 0.5621 - val_dice_coef_enhancing: 0.4573 - val_dice_coef_necrotic: 0.3033 - val_loss: 0.0349 - val_mean_io_u: 0.5000 - val_precision: 0.9937 - val_sensitivity: 0.9840 - val_specificity: 0.9979 - learning_rate: 2.0000e-04\n",
      "Epoch 19/30\n",
      "\u001b[1m250/324\u001b[0m \u001b[32m━━━━━━━━━━━━━━━\u001b[0m\u001b[37m━━━━━\u001b[0m \u001b[1m22s\u001b[0m 298ms/step - accuracy: 0.9888 - dice_coef: 0.4611 - dice_coef_edema: 0.5559 - dice_coef_enhancing: 0.3781 - dice_coef_necrotic: 0.3372 - loss: 0.0309 - mean_io_u: 0.5041 - precision: 0.9935 - sensitivity: 0.9854 - specificity: 0.9979\n",
      "Epoch 19: val_loss improved from 0.02867 to 0.02704, saving model to /kaggle/working/model.weights.h5\n",
      "\u001b[1m324/324\u001b[0m \u001b[32m━━━━━━━━━━━━━━━━━━━━\u001b[0m\u001b[37m\u001b[0m \u001b[1m121s\u001b[0m 368ms/step - accuracy: 0.9890 - dice_coef: 0.4629 - dice_coef_edema: 0.5568 - dice_coef_enhancing: 0.3889 - dice_coef_necrotic: 0.3355 - loss: 0.0305 - mean_io_u: 0.5032 - precision: 0.9936 - sensitivity: 0.9856 - specificity: 0.9979 - val_accuracy: 0.9903 - val_dice_coef: 0.4792 - val_dice_coef_edema: 0.5777 - val_dice_coef_enhancing: 0.4849 - val_dice_coef_necrotic: 0.3083 - val_loss: 0.0270 - val_mean_io_u: 0.5000 - val_precision: 0.9942 - val_sensitivity: 0.9873 - val_specificity: 0.9981 - learning_rate: 2.0000e-04\n",
      "Epoch 20/30\n",
      "\u001b[1m250/324\u001b[0m \u001b[32m━━━━━━━━━━━━━━━\u001b[0m\u001b[37m━━━━━\u001b[0m \u001b[1m22s\u001b[0m 301ms/step - accuracy: 0.9899 - dice_coef: 0.4740 - dice_coef_edema: 0.5832 - dice_coef_enhancing: 0.4369 - dice_coef_necrotic: 0.3187 - loss: 0.0281 - mean_io_u: 0.5215 - precision: 0.9939 - sensitivity: 0.9871 - specificity: 0.9980\n",
      "Epoch 20: val_loss did not improve from 0.02704\n",
      "\u001b[1m324/324\u001b[0m \u001b[32m━━━━━━━━━━━━━━━━━━━━\u001b[0m\u001b[37m\u001b[0m \u001b[1m119s\u001b[0m 363ms/step - accuracy: 0.9899 - dice_coef: 0.4746 - dice_coef_edema: 0.5804 - dice_coef_enhancing: 0.4398 - dice_coef_necrotic: 0.3217 - loss: 0.0282 - mean_io_u: 0.5166 - precision: 0.9939 - sensitivity: 0.9871 - specificity: 0.9980 - val_accuracy: 0.9904 - val_dice_coef: 0.4867 - val_dice_coef_edema: 0.5319 - val_dice_coef_enhancing: 0.4580 - val_dice_coef_necrotic: 0.3263 - val_loss: 0.0286 - val_mean_io_u: 0.5000 - val_precision: 0.9936 - val_sensitivity: 0.9878 - val_specificity: 0.9979 - learning_rate: 2.0000e-04\n",
      "Epoch 21/30\n",
      "\u001b[1m250/324\u001b[0m \u001b[32m━━━━━━━━━━━━━━━\u001b[0m\u001b[37m━━━━━\u001b[0m \u001b[1m22s\u001b[0m 299ms/step - accuracy: 0.9903 - dice_coef: 0.4880 - dice_coef_edema: 0.5939 - dice_coef_enhancing: 0.4910 - dice_coef_necrotic: 0.3202 - loss: 0.0276 - mean_io_u: 0.5205 - precision: 0.9941 - sensitivity: 0.9874 - specificity: 0.9980\n",
      "Epoch 21: ReduceLROnPlateau reducing learning rate to 4.0000001899898055e-05.\n",
      "\n",
      "Epoch 21: val_loss did not improve from 0.02704\n",
      "\u001b[1m324/324\u001b[0m \u001b[32m━━━━━━━━━━━━━━━━━━━━\u001b[0m\u001b[37m\u001b[0m \u001b[1m118s\u001b[0m 361ms/step - accuracy: 0.9902 - dice_coef: 0.4866 - dice_coef_edema: 0.5866 - dice_coef_enhancing: 0.4860 - dice_coef_necrotic: 0.3247 - loss: 0.0280 - mean_io_u: 0.5159 - precision: 0.9940 - sensitivity: 0.9873 - specificity: 0.9980 - val_accuracy: 0.9900 - val_dice_coef: 0.4736 - val_dice_coef_edema: 0.5481 - val_dice_coef_enhancing: 0.4189 - val_dice_coef_necrotic: 0.3169 - val_loss: 0.0302 - val_mean_io_u: 0.5000 - val_precision: 0.9932 - val_sensitivity: 0.9876 - val_specificity: 0.9978 - learning_rate: 2.0000e-04\n",
      "Epoch 22/30\n",
      "\u001b[1m250/324\u001b[0m \u001b[32m━━━━━━━━━━━━━━━\u001b[0m\u001b[37m━━━━━\u001b[0m \u001b[1m22s\u001b[0m 298ms/step - accuracy: 0.9908 - dice_coef: 0.4963 - dice_coef_edema: 0.6000 - dice_coef_enhancing: 0.4787 - dice_coef_necrotic: 0.3618 - loss: 0.0266 - mean_io_u: 0.5182 - precision: 0.9943 - sensitivity: 0.9879 - specificity: 0.9981\n",
      "Epoch 22: val_loss improved from 0.02704 to 0.02494, saving model to /kaggle/working/model.weights.h5\n",
      "\u001b[1m324/324\u001b[0m \u001b[32m━━━━━━━━━━━━━━━━━━━━\u001b[0m\u001b[37m\u001b[0m \u001b[1m120s\u001b[0m 365ms/step - accuracy: 0.9908 - dice_coef: 0.4960 - dice_coef_edema: 0.5998 - dice_coef_enhancing: 0.4797 - dice_coef_necrotic: 0.3618 - loss: 0.0265 - mean_io_u: 0.5140 - precision: 0.9943 - sensitivity: 0.9879 - specificity: 0.9981 - val_accuracy: 0.9910 - val_dice_coef: 0.5019 - val_dice_coef_edema: 0.6193 - val_dice_coef_enhancing: 0.4846 - val_dice_coef_necrotic: 0.3424 - val_loss: 0.0249 - val_mean_io_u: 0.5000 - val_precision: 0.9942 - val_sensitivity: 0.9885 - val_specificity: 0.9981 - learning_rate: 4.0000e-05\n",
      "Epoch 23/30\n",
      "\u001b[1m250/324\u001b[0m \u001b[32m━━━━━━━━━━━━━━━\u001b[0m\u001b[37m━━━━━\u001b[0m \u001b[1m22s\u001b[0m 303ms/step - accuracy: 0.9912 - dice_coef: 0.5101 - dice_coef_edema: 0.6091 - dice_coef_enhancing: 0.5066 - dice_coef_necrotic: 0.3833 - loss: 0.0245 - mean_io_u: 0.5190 - precision: 0.9944 - sensitivity: 0.9887 - specificity: 0.9981\n",
      "Epoch 23: val_loss improved from 0.02494 to 0.02412, saving model to /kaggle/working/model.weights.h5\n",
      "\u001b[1m324/324\u001b[0m \u001b[32m━━━━━━━━━━━━━━━━━━━━\u001b[0m\u001b[37m\u001b[0m \u001b[1m121s\u001b[0m 369ms/step - accuracy: 0.9912 - dice_coef: 0.5100 - dice_coef_edema: 0.6108 - dice_coef_enhancing: 0.5070 - dice_coef_necrotic: 0.3807 - loss: 0.0245 - mean_io_u: 0.5146 - precision: 0.9944 - sensitivity: 0.9886 - specificity: 0.9981 - val_accuracy: 0.9913 - val_dice_coef: 0.5132 - val_dice_coef_edema: 0.6037 - val_dice_coef_enhancing: 0.5322 - val_dice_coef_necrotic: 0.3532 - val_loss: 0.0241 - val_mean_io_u: 0.5000 - val_precision: 0.9946 - val_sensitivity: 0.9887 - val_specificity: 0.9982 - learning_rate: 4.0000e-05\n",
      "Epoch 24/30\n",
      "\u001b[1m250/324\u001b[0m \u001b[32m━━━━━━━━━━━━━━━\u001b[0m\u001b[37m━━━━━\u001b[0m \u001b[1m22s\u001b[0m 301ms/step - accuracy: 0.9918 - dice_coef: 0.5211 - dice_coef_edema: 0.6283 - dice_coef_enhancing: 0.5387 - dice_coef_necrotic: 0.3726 - loss: 0.0230 - mean_io_u: 0.5178 - precision: 0.9948 - sensitivity: 0.9894 - specificity: 0.9983\n",
      "Epoch 24: val_loss improved from 0.02412 to 0.02335, saving model to /kaggle/working/model.weights.h5\n",
      "\u001b[1m324/324\u001b[0m \u001b[32m━━━━━━━━━━━━━━━━━━━━\u001b[0m\u001b[37m\u001b[0m \u001b[1m120s\u001b[0m 367ms/step - accuracy: 0.9917 - dice_coef: 0.5204 - dice_coef_edema: 0.6270 - dice_coef_enhancing: 0.5356 - dice_coef_necrotic: 0.3740 - loss: 0.0232 - mean_io_u: 0.5137 - precision: 0.9948 - sensitivity: 0.9893 - specificity: 0.9983 - val_accuracy: 0.9916 - val_dice_coef: 0.5173 - val_dice_coef_edema: 0.6204 - val_dice_coef_enhancing: 0.5439 - val_dice_coef_necrotic: 0.3942 - val_loss: 0.0233 - val_mean_io_u: 0.5000 - val_precision: 0.9952 - val_sensitivity: 0.9886 - val_specificity: 0.9984 - learning_rate: 4.0000e-05\n",
      "Epoch 25/30\n",
      "\u001b[1m250/324\u001b[0m \u001b[32m━━━━━━━━━━━━━━━\u001b[0m\u001b[37m━━━━━\u001b[0m \u001b[1m22s\u001b[0m 299ms/step - accuracy: 0.9919 - dice_coef: 0.5262 - dice_coef_edema: 0.6311 - dice_coef_enhancing: 0.5648 - dice_coef_necrotic: 0.3755 - loss: 0.0227 - mean_io_u: 0.5137 - precision: 0.9950 - sensitivity: 0.9894 - specificity: 0.9984\n",
      "Epoch 25: val_loss did not improve from 0.02335\n",
      "\u001b[1m324/324\u001b[0m \u001b[32m━━━━━━━━━━━━━━━━━━━━\u001b[0m\u001b[37m\u001b[0m \u001b[1m120s\u001b[0m 368ms/step - accuracy: 0.9918 - dice_coef: 0.5253 - dice_coef_edema: 0.6300 - dice_coef_enhancing: 0.5567 - dice_coef_necrotic: 0.3782 - loss: 0.0228 - mean_io_u: 0.5105 - precision: 0.9950 - sensitivity: 0.9893 - specificity: 0.9983 - val_accuracy: 0.9915 - val_dice_coef: 0.5211 - val_dice_coef_edema: 0.6239 - val_dice_coef_enhancing: 0.5228 - val_dice_coef_necrotic: 0.3543 - val_loss: 0.0234 - val_mean_io_u: 0.5000 - val_precision: 0.9943 - val_sensitivity: 0.9893 - val_specificity: 0.9981 - learning_rate: 4.0000e-05\n",
      "Epoch 26/30\n",
      "\u001b[1m250/324\u001b[0m \u001b[32m━━━━━━━━━━━━━━━\u001b[0m\u001b[37m━━━━━\u001b[0m \u001b[1m22s\u001b[0m 301ms/step - accuracy: 0.9916 - dice_coef: 0.5337 - dice_coef_edema: 0.6439 - dice_coef_enhancing: 0.5457 - dice_coef_necrotic: 0.3985 - loss: 0.0232 - mean_io_u: 0.5179 - precision: 0.9946 - sensitivity: 0.9892 - specificity: 0.9982\n",
      "Epoch 26: val_loss improved from 0.02335 to 0.02228, saving model to /kaggle/working/model.weights.h5\n",
      "\u001b[1m324/324\u001b[0m \u001b[32m━━━━━━━━━━━━━━━━━━━━\u001b[0m\u001b[37m\u001b[0m \u001b[1m120s\u001b[0m 367ms/step - accuracy: 0.9916 - dice_coef: 0.5322 - dice_coef_edema: 0.6418 - dice_coef_enhancing: 0.5434 - dice_coef_necrotic: 0.3972 - loss: 0.0231 - mean_io_u: 0.5138 - precision: 0.9946 - sensitivity: 0.9892 - specificity: 0.9982 - val_accuracy: 0.9919 - val_dice_coef: 0.5317 - val_dice_coef_edema: 0.6419 - val_dice_coef_enhancing: 0.5539 - val_dice_coef_necrotic: 0.3853 - val_loss: 0.0223 - val_mean_io_u: 0.5000 - val_precision: 0.9949 - val_sensitivity: 0.9896 - val_specificity: 0.9983 - learning_rate: 4.0000e-05\n",
      "Epoch 27/30\n",
      "\u001b[1m250/324\u001b[0m \u001b[32m━━━━━━━━━━━━━━━\u001b[0m\u001b[37m━━━━━\u001b[0m \u001b[1m22s\u001b[0m 298ms/step - accuracy: 0.9925 - dice_coef: 0.5327 - dice_coef_edema: 0.6504 - dice_coef_enhancing: 0.5409 - dice_coef_necrotic: 0.3926 - loss: 0.0209 - mean_io_u: 0.5177 - precision: 0.9952 - sensitivity: 0.9904 - specificity: 0.9984\n",
      "Epoch 27: val_loss improved from 0.02228 to 0.02214, saving model to /kaggle/working/model.weights.h5\n",
      "\u001b[1m324/324\u001b[0m \u001b[32m━━━━━━━━━━━━━━━━━━━━\u001b[0m\u001b[37m\u001b[0m \u001b[1m118s\u001b[0m 360ms/step - accuracy: 0.9923 - dice_coef: 0.5329 - dice_coef_edema: 0.6487 - dice_coef_enhancing: 0.5421 - dice_coef_necrotic: 0.3929 - loss: 0.0213 - mean_io_u: 0.5137 - precision: 0.9951 - sensitivity: 0.9902 - specificity: 0.9984 - val_accuracy: 0.9920 - val_dice_coef: 0.5309 - val_dice_coef_edema: 0.6386 - val_dice_coef_enhancing: 0.5535 - val_dice_coef_necrotic: 0.4276 - val_loss: 0.0221 - val_mean_io_u: 0.5000 - val_precision: 0.9953 - val_sensitivity: 0.9893 - val_specificity: 0.9984 - learning_rate: 4.0000e-05\n",
      "Epoch 28/30\n",
      "\u001b[1m250/324\u001b[0m \u001b[32m━━━━━━━━━━━━━━━\u001b[0m\u001b[37m━━━━━\u001b[0m \u001b[1m22s\u001b[0m 298ms/step - accuracy: 0.9917 - dice_coef: 0.5376 - dice_coef_edema: 0.6405 - dice_coef_enhancing: 0.5516 - dice_coef_necrotic: 0.4183 - loss: 0.0228 - mean_io_u: 0.5162 - precision: 0.9949 - sensitivity: 0.9893 - specificity: 0.9983\n",
      "Epoch 28: val_loss improved from 0.02214 to 0.02163, saving model to /kaggle/working/model.weights.h5\n",
      "\u001b[1m324/324\u001b[0m \u001b[32m━━━━━━━━━━━━━━━━━━━━\u001b[0m\u001b[37m\u001b[0m \u001b[1m119s\u001b[0m 362ms/step - accuracy: 0.9917 - dice_coef: 0.5374 - dice_coef_edema: 0.6414 - dice_coef_enhancing: 0.5508 - dice_coef_necrotic: 0.4159 - loss: 0.0227 - mean_io_u: 0.5125 - precision: 0.9949 - sensitivity: 0.9894 - specificity: 0.9983 - val_accuracy: 0.9922 - val_dice_coef: 0.5379 - val_dice_coef_edema: 0.6419 - val_dice_coef_enhancing: 0.5545 - val_dice_coef_necrotic: 0.4254 - val_loss: 0.0216 - val_mean_io_u: 0.5000 - val_precision: 0.9952 - val_sensitivity: 0.9898 - val_specificity: 0.9984 - learning_rate: 4.0000e-05\n",
      "Epoch 29/30\n",
      "\u001b[1m250/324\u001b[0m \u001b[32m━━━━━━━━━━━━━━━\u001b[0m\u001b[37m━━━━━\u001b[0m \u001b[1m22s\u001b[0m 297ms/step - accuracy: 0.9921 - dice_coef: 0.5419 - dice_coef_edema: 0.6408 - dice_coef_enhancing: 0.5734 - dice_coef_necrotic: 0.4132 - loss: 0.0218 - mean_io_u: 0.5202 - precision: 0.9951 - sensitivity: 0.9898 - specificity: 0.9984\n",
      "Epoch 29: val_loss improved from 0.02163 to 0.02146, saving model to /kaggle/working/model.weights.h5\n",
      "\u001b[1m324/324\u001b[0m \u001b[32m━━━━━━━━━━━━━━━━━━━━\u001b[0m\u001b[37m\u001b[0m \u001b[1m118s\u001b[0m 361ms/step - accuracy: 0.9921 - dice_coef: 0.5416 - dice_coef_edema: 0.6425 - dice_coef_enhancing: 0.5685 - dice_coef_necrotic: 0.4124 - loss: 0.0218 - mean_io_u: 0.5156 - precision: 0.9950 - sensitivity: 0.9898 - specificity: 0.9984 - val_accuracy: 0.9921 - val_dice_coef: 0.5441 - val_dice_coef_edema: 0.6739 - val_dice_coef_enhancing: 0.5601 - val_dice_coef_necrotic: 0.3991 - val_loss: 0.0215 - val_mean_io_u: 0.5000 - val_precision: 0.9948 - val_sensitivity: 0.9901 - val_specificity: 0.9983 - learning_rate: 4.0000e-05\n",
      "Epoch 30/30\n",
      "\u001b[1m250/324\u001b[0m \u001b[32m━━━━━━━━━━━━━━━\u001b[0m\u001b[37m━━━━━\u001b[0m \u001b[1m21s\u001b[0m 294ms/step - accuracy: 0.9919 - dice_coef: 0.5527 - dice_coef_edema: 0.6832 - dice_coef_enhancing: 0.5580 - dice_coef_necrotic: 0.4174 - loss: 0.0221 - mean_io_u: 0.5221 - precision: 0.9948 - sensitivity: 0.9896 - specificity: 0.9983\n",
      "Epoch 30: val_loss improved from 0.02146 to 0.02106, saving model to /kaggle/working/model.weights.h5\n",
      "\u001b[1m324/324\u001b[0m \u001b[32m━━━━━━━━━━━━━━━━━━━━\u001b[0m\u001b[37m\u001b[0m \u001b[1m118s\u001b[0m 359ms/step - accuracy: 0.9920 - dice_coef: 0.5513 - dice_coef_edema: 0.6772 - dice_coef_enhancing: 0.5598 - dice_coef_necrotic: 0.4161 - loss: 0.0220 - mean_io_u: 0.5170 - precision: 0.9948 - sensitivity: 0.9897 - specificity: 0.9983 - val_accuracy: 0.9924 - val_dice_coef: 0.5472 - val_dice_coef_edema: 0.6576 - val_dice_coef_enhancing: 0.5790 - val_dice_coef_necrotic: 0.4457 - val_loss: 0.0211 - val_mean_io_u: 0.5000 - val_precision: 0.9954 - val_sensitivity: 0.9899 - val_specificity: 0.9985 - learning_rate: 4.0000e-05\n"
     ]
    }
   ],
   "source": [
    "K.clear_session()\n",
    "\n",
    "history =  model.fit(training_generator,\n",
    "                    epochs=30,\n",
    "                    steps_per_epoch=len(train_ids1+train_ids2),\n",
    "                    callbacks= callbacks,\n",
    "                    validation_data = valid_generator\n",
    "                    )"
   ]
  },
  {
   "cell_type": "code",
   "execution_count": 16,
   "id": "576ce5f8",
   "metadata": {
    "execution": {
     "iopub.execute_input": "2024-10-13T21:35:20.230360Z",
     "iopub.status.busy": "2024-10-13T21:35:20.229259Z",
     "iopub.status.idle": "2024-10-13T21:35:20.481197Z",
     "shell.execute_reply": "2024-10-13T21:35:20.480306Z"
    },
    "papermill": {
     "duration": 0.951839,
     "end_time": "2024-10-13T21:35:20.483159",
     "exception": false,
     "start_time": "2024-10-13T21:35:19.531320",
     "status": "completed"
    },
    "tags": []
   },
   "outputs": [
    {
     "data": {
      "text/plain": [
       "4586"
      ]
     },
     "execution_count": 16,
     "metadata": {},
     "output_type": "execute_result"
    }
   ],
   "source": [
    "import gc\n",
    "gc.collect()"
   ]
  },
  {
   "cell_type": "code",
   "execution_count": 17,
   "id": "2ec475bc",
   "metadata": {
    "execution": {
     "iopub.execute_input": "2024-10-13T21:35:21.785757Z",
     "iopub.status.busy": "2024-10-13T21:35:21.784847Z",
     "iopub.status.idle": "2024-10-13T21:35:22.173338Z",
     "shell.execute_reply": "2024-10-13T21:35:22.172509Z"
    },
    "papermill": {
     "duration": 1.044415,
     "end_time": "2024-10-13T21:35:22.175772",
     "exception": false,
     "start_time": "2024-10-13T21:35:21.131357",
     "status": "completed"
    },
    "tags": []
   },
   "outputs": [],
   "source": [
    "model.save(\"/kaggle/working/my_model.keras\")"
   ]
  },
  {
   "cell_type": "code",
   "execution_count": 18,
   "id": "4c01f848",
   "metadata": {
    "execution": {
     "iopub.execute_input": "2024-10-13T21:35:23.561476Z",
     "iopub.status.busy": "2024-10-13T21:35:23.561017Z",
     "iopub.status.idle": "2024-10-13T21:35:24.766195Z",
     "shell.execute_reply": "2024-10-13T21:35:24.765161Z"
    },
    "papermill": {
     "duration": 1.923576,
     "end_time": "2024-10-13T21:35:24.768650",
     "exception": false,
     "start_time": "2024-10-13T21:35:22.845074",
     "status": "completed"
    },
    "tags": []
   },
   "outputs": [],
   "source": [
    "model = keras.models.load_model('/kaggle/working/my_model.keras',\n",
    "                                   custom_objects={\"accuracy\" : tf.keras.metrics.MeanIoU(num_classes=4),\n",
    "                                                   \"dice_coef\" : dice_coef,\n",
    "                                                   \"precision\" : precision,\n",
    "                                                   \"sensitivity\" :sensitivity,\n",
    "                                                   \"specificity\" :specificity,\n",
    "                                                   \"dice_coef_necrotic\" : dice_coef_necrotic,\n",
    "                                                   \"dice_coef_edema\" : dice_coef_edema,\n",
    "                                                   \"dice_coef_enhancing\" : dice_coef_enhancing\n",
    "                                                  }, compile=False)"
   ]
  },
  {
   "cell_type": "code",
   "execution_count": 19,
   "id": "13e21297",
   "metadata": {
    "execution": {
     "iopub.execute_input": "2024-10-13T21:35:26.087908Z",
     "iopub.status.busy": "2024-10-13T21:35:26.087533Z",
     "iopub.status.idle": "2024-10-13T21:35:27.006522Z",
     "shell.execute_reply": "2024-10-13T21:35:27.005610Z"
    },
    "papermill": {
     "duration": 1.572886,
     "end_time": "2024-10-13T21:35:27.008707",
     "exception": false,
     "start_time": "2024-10-13T21:35:25.435821",
     "status": "completed"
    },
    "tags": []
   },
   "outputs": [
    {
     "data": {
      "text/plain": [
       "<matplotlib.legend.Legend at 0x7e803dec75b0>"
      ]
     },
     "execution_count": 19,
     "metadata": {},
     "output_type": "execute_result"
    },
    {
     "data": {
      "image/png": "[encoded data removed]",
      "text/plain": [
       "<Figure size 1600x800 with 4 Axes>"
      ]
     },
     "metadata": {},
     "output_type": "display_data"
    }
   ],
   "source": [
    "history = pd.read_csv('/kaggle/working/training.log', sep=',', engine='python')\n",
    "\n",
    "hist=history\n",
    "\n",
    "acc=hist['accuracy']\n",
    "val_acc=hist['val_accuracy']\n",
    "\n",
    "epoch=range(len(acc))\n",
    "\n",
    "loss=hist['loss']\n",
    "val_loss=hist['val_loss']\n",
    "\n",
    "train_dice=hist['dice_coef']\n",
    "val_dice=hist['val_dice_coef']\n",
    "\n",
    "f,ax=plt.subplots(1,4,figsize=(16,8))\n",
    "\n",
    "ax[0].plot(epoch,acc,'b',label='Training Accuracy')\n",
    "ax[0].plot(epoch,val_acc,'r',label='Validation Accuracy')\n",
    "ax[0].legend()\n",
    "\n",
    "ax[1].plot(epoch,loss,'b',label='Training Loss')\n",
    "ax[1].plot(epoch,val_loss,'r',label='Validation Loss')\n",
    "ax[1].legend()\n",
    "\n",
    "ax[2].plot(epoch,train_dice,'b',label='Training dice coef')\n",
    "ax[2].plot(epoch,val_dice,'r',label='Validation dice coef')\n",
    "ax[2].legend()\n",
    "\n",
    "ax[3].plot(epoch, hist['mean_io_u'], 'b', label='Training mean IOU')\n",
    "ax[3].plot(epoch, hist['val_mean_io_u'], 'r', label='Validation mean IOU')\n",
    "ax[3].legend()"
   ]
  },
  {
   "cell_type": "code",
   "execution_count": 20,
   "id": "7dd52a8b",
   "metadata": {
    "execution": {
     "iopub.execute_input": "2024-10-13T21:35:28.373350Z",
     "iopub.status.busy": "2024-10-13T21:35:28.372192Z",
     "iopub.status.idle": "2024-10-13T21:35:28.377869Z",
     "shell.execute_reply": "2024-10-13T21:35:28.377005Z"
    },
    "papermill": {
     "duration": 0.665952,
     "end_time": "2024-10-13T21:35:28.380409",
     "exception": false,
     "start_time": "2024-10-13T21:35:27.714457",
     "status": "completed"
    },
    "tags": []
   },
   "outputs": [
    {
     "name": "stdout",
     "output_type": "stream",
     "text": [
      "Index(['epoch', 'accuracy', 'dice_coef', 'dice_coef_edema',\n",
      "       'dice_coef_enhancing', 'dice_coef_necrotic', 'learning_rate', 'loss',\n",
      "       'mean_io_u', 'precision', 'sensitivity', 'specificity', 'val_accuracy',\n",
      "       'val_dice_coef', 'val_dice_coef_edema', 'val_dice_coef_enhancing',\n",
      "       'val_dice_coef_necrotic', 'val_loss', 'val_mean_io_u', 'val_precision',\n",
      "       'val_sensitivity', 'val_specificity'],\n",
      "      dtype='object')\n"
     ]
    }
   ],
   "source": [
    "print(hist.keys())\n"
   ]
  },
  {
   "cell_type": "code",
   "execution_count": 21,
   "id": "5237ebee",
   "metadata": {
    "execution": {
     "iopub.execute_input": "2024-10-13T21:35:29.747758Z",
     "iopub.status.busy": "2024-10-13T21:35:29.746808Z",
     "iopub.status.idle": "2024-10-13T21:35:29.986072Z",
     "shell.execute_reply": "2024-10-13T21:35:29.985128Z"
    },
    "papermill": {
     "duration": 0.953964,
     "end_time": "2024-10-13T21:35:29.988159",
     "exception": false,
     "start_time": "2024-10-13T21:35:29.034195",
     "status": "completed"
    },
    "tags": []
   },
   "outputs": [
    {
     "name": "stderr",
     "output_type": "stream",
     "text": [
      "/opt/conda/lib/python3.10/site-packages/keras/src/saving/saving_lib.py:415: UserWarning: Skipping variable loading for optimizer 'adam', because it has 2 variables whereas the saved optimizer has 94 variables. \n",
      "  saveable.load_own_variables(weights_store.get(inner_path))\n"
     ]
    }
   ],
   "source": [
    "\n",
    "# Compile a model and load our saved weights\n",
    "IMG_SIZE = 128\n",
    "input_layer = Input((IMG_SIZE, IMG_SIZE, 2))\n",
    "\n",
    "best_saved_model = build_unet(input_layer, 'he_normal', 0.2)\n",
    "\n",
    "best_saved_model.compile(loss=\"categorical_crossentropy\", optimizer=tf.keras.optimizers.Adam(learning_rate=0.001), metrics = ['accuracy',tf.keras.metrics.MeanIoU(num_classes=4), dice_coef, precision, sensitivity, specificity, dice_coef_necrotic, dice_coef_edema, dice_coef_enhancing])\n",
    "\n",
    "best_saved_model.load_weights('/kaggle/working/model.weights.h5')"
   ]
  },
  {
   "cell_type": "code",
   "execution_count": 22,
   "id": "984e4072",
   "metadata": {
    "execution": {
     "iopub.execute_input": "2024-10-13T21:35:31.315021Z",
     "iopub.status.busy": "2024-10-13T21:35:31.314069Z",
     "iopub.status.idle": "2024-10-13T21:35:31.321086Z",
     "shell.execute_reply": "2024-10-13T21:35:31.320345Z"
    },
    "papermill": {
     "duration": 0.655276,
     "end_time": "2024-10-13T21:35:31.323060",
     "exception": false,
     "start_time": "2024-10-13T21:35:30.667784",
     "status": "completed"
    },
    "tags": []
   },
   "outputs": [],
   "source": [
    "def imageLoader(path):\n",
    "    image = nib.load(path).get_fdata()\n",
    "    X = np.zeros((self.batch_size*VOLUME_SLICES, *self.dim, self.n_channels))\n",
    "    for j in range(VOLUME_SLICES):\n",
    "        X[j +VOLUME_SLICES*c,:,:,0] = cv2.resize(image[:,:,j+VOLUME_START_AT], (IMG_SIZE, IMG_SIZE));\n",
    "        X[j +VOLUME_SLICES*c,:,:,1] = cv2.resize(ce[:,:,j+VOLUME_START_AT], (IMG_SIZE, IMG_SIZE));\n",
    "\n",
    "        y[j +VOLUME_SLICES*c] = seg[:,:,j+VOLUME_START_AT];\n",
    "    return np.array(image)"
   ]
  },
  {
   "cell_type": "code",
   "execution_count": 23,
   "id": "e19b38fb",
   "metadata": {
    "execution": {
     "iopub.execute_input": "2024-10-13T21:35:32.672549Z",
     "iopub.status.busy": "2024-10-13T21:35:32.671567Z",
     "iopub.status.idle": "2024-10-13T21:35:32.680007Z",
     "shell.execute_reply": "2024-10-13T21:35:32.679101Z"
    },
    "papermill": {
     "duration": 0.703994,
     "end_time": "2024-10-13T21:35:32.681850",
     "exception": false,
     "start_time": "2024-10-13T21:35:31.977856",
     "status": "completed"
    },
    "tags": []
   },
   "outputs": [],
   "source": [
    "def loadDataFromDir(path, list_of_files, mriType, n_images):\n",
    "    scans = []\n",
    "    masks = []\n",
    "    for i in list_of_files[:n_images]:\n",
    "        fullPath = glob.glob( i + '/*'+ mriType +'*')[0]\n",
    "        currentScanVolume = imageLoader(fullPath)\n",
    "        currentMaskVolume = imageLoader( glob.glob( i + '/*seg*')[0] )\n",
    "        # for each slice in 3D volume, find also it's mask\n",
    "        for j in range(0, currentScanVolume.shape[2]):\n",
    "            scan_img = cv2.resize(currentScanVolume[:,:,j], dsize=(IMG_SIZE,IMG_SIZE), interpolation=cv2.INTER_AREA).astype('uint8')\n",
    "            mask_img = cv2.resize(currentMaskVolume[:,:,j], dsize=(IMG_SIZE,IMG_SIZE), interpolation=cv2.INTER_AREA).astype('uint8')\n",
    "            scans.append(scan_img[..., np.newaxis])\n",
    "            masks.append(mask_img[..., np.newaxis])\n",
    "    return np.array(scans, dtype='float32'), np.array(masks, dtype='float32')"
   ]
  },
  {
   "cell_type": "code",
   "execution_count": 24,
   "id": "e9aabdd6",
   "metadata": {
    "execution": {
     "iopub.execute_input": "2024-10-13T21:35:33.979782Z",
     "iopub.status.busy": "2024-10-13T21:35:33.979406Z",
     "iopub.status.idle": "2024-10-13T21:35:33.987018Z",
     "shell.execute_reply": "2024-10-13T21:35:33.986124Z"
    },
    "papermill": {
     "duration": 0.659937,
     "end_time": "2024-10-13T21:35:33.989000",
     "exception": false,
     "start_time": "2024-10-13T21:35:33.329063",
     "status": "completed"
    },
    "tags": []
   },
   "outputs": [],
   "source": [
    "def predictByPath(case_path,case):\n",
    "    files = next(os.walk(case_path))[2]\n",
    "    X = np.empty((VOLUME_SLICES, IMG_SIZE, IMG_SIZE, 2))\n",
    "\n",
    "    vol_path = os.path.join(case_path, f'BraTS20_Training_{case}_flair.nii');\n",
    "    flair=nib.load(vol_path).get_fdata()\n",
    "\n",
    "    vol_path = os.path.join(case_path, f'BraTS20_Training_{case}_t1ce.nii');\n",
    "    ce=nib.load(vol_path).get_fdata()\n",
    "\n",
    "\n",
    "    for j in range(VOLUME_SLICES):\n",
    "        X[j,:,:,0] = cv2.resize(flair[:,:,j+VOLUME_START_AT], (IMG_SIZE,IMG_SIZE))\n",
    "        X[j,:,:,1] = cv2.resize(ce[:,:,j+VOLUME_START_AT], (IMG_SIZE,IMG_SIZE))\n",
    "\n",
    "    return model.predict(X/np.max(X), verbose=1)"
   ]
  },
  {
   "cell_type": "code",
   "execution_count": 25,
   "id": "2f53a993",
   "metadata": {
    "execution": {
     "iopub.execute_input": "2024-10-13T21:35:35.454679Z",
     "iopub.status.busy": "2024-10-13T21:35:35.454239Z",
     "iopub.status.idle": "2024-10-13T21:35:35.468006Z",
     "shell.execute_reply": "2024-10-13T21:35:35.467315Z"
    },
    "papermill": {
     "duration": 0.695182,
     "end_time": "2024-10-13T21:35:35.469920",
     "exception": false,
     "start_time": "2024-10-13T21:35:34.774738",
     "status": "completed"
    },
    "tags": []
   },
   "outputs": [],
   "source": [
    "def showPredictsById(case, start_slice = 60):\n",
    "    path = f\"/BraTS2020_TrainingData/MICCAI_BraTS2020_TrainingData/BraTS20_Training_{case}\"\n",
    "    gt = nib.load(os.path.join(path, f'BraTS20_Training_{case}_seg.nii')).get_fdata()\n",
    "    origImage = nib.load(os.path.join(path, f'BraTS20_Training_{case}_flair.nii')).get_fdata()\n",
    "    p = predictByPath(path,case)\n",
    "\n",
    "    core = p[:,:,:,1]\n",
    "    edema= p[:,:,:,2]\n",
    "    enhancing = p[:,:,:,3]\n",
    "\n",
    "    plt.figure(figsize=(18, 50))\n",
    "    f, axarr = plt.subplots(1,6, figsize = (18, 50))\n",
    "\n",
    "    for i in range(6): # for each image, add brain background\n",
    "        axarr[i].imshow(cv2.resize(origImage[:,:,start_slice+VOLUME_START_AT], (IMG_SIZE, IMG_SIZE)), cmap=\"gray\", interpolation='none')\n",
    "\n",
    "    axarr[0].imshow(cv2.resize(origImage[:,:,start_slice+VOLUME_START_AT], (IMG_SIZE, IMG_SIZE)), cmap=\"gray\")\n",
    "    axarr[0].title.set_text('Original image flair')\n",
    "    curr_gt=cv2.resize(gt[:,:,start_slice+VOLUME_START_AT], (IMG_SIZE, IMG_SIZE), interpolation = cv2.INTER_NEAREST)\n",
    "    axarr[1].imshow(curr_gt, cmap=\"Reds\", interpolation='none', alpha=0.3) # ,alpha=0.3,cmap='Reds'\n",
    "    axarr[1].title.set_text('Ground truth')\n",
    "    axarr[2].imshow(p[start_slice,:,:,1:4], cmap=\"Reds\", interpolation='none', alpha=0.3)\n",
    "    axarr[2].title.set_text('all classes predicted')\n",
    "    axarr[3].imshow(edema[start_slice,:,:], cmap=\"OrRd\", interpolation='none', alpha=0.3)\n",
    "    axarr[3].title.set_text(f'{SEGMENT_CLASSES[1]} predicted')\n",
    "    axarr[4].imshow(core[start_slice,:,], cmap=\"OrRd\", interpolation='none', alpha=0.3)\n",
    "    axarr[4].title.set_text(f'{SEGMENT_CLASSES[2]} predicted')\n",
    "    axarr[5].imshow(enhancing[start_slice,:,], cmap=\"OrRd\", interpolation='none', alpha=0.3)\n",
    "    axarr[5].title.set_text(f'{SEGMENT_CLASSES[3]} predicted')\n",
    "    plt.show()"
   ]
  },
  {
   "cell_type": "code",
   "execution_count": 26,
   "id": "b33a0d18",
   "metadata": {
    "execution": {
     "iopub.execute_input": "2024-10-13T21:35:36.813902Z",
     "iopub.status.busy": "2024-10-13T21:35:36.813469Z",
     "iopub.status.idle": "2024-10-13T21:35:36.821044Z",
     "shell.execute_reply": "2024-10-13T21:35:36.820134Z"
    },
    "papermill": {
     "duration": 0.702707,
     "end_time": "2024-10-13T21:35:36.823096",
     "exception": false,
     "start_time": "2024-10-13T21:35:36.120389",
     "status": "completed"
    },
    "tags": []
   },
   "outputs": [],
   "source": [
    "def predict_segmentation(sample_path):\n",
    "    # Load NIfTI (.nii) files of the sample (patient)\n",
    "    t1ce_path = sample_path + '_t1ce.nii'\n",
    "    flair_path = sample_path + '_flair.nii'\n",
    "\n",
    "    # Extract the data from these paths\n",
    "    t1ce = nib.load(t1ce_path).get_fdata()\n",
    "    flair = nib.load(flair_path).get_fdata()\n",
    "\n",
    "    # Create an empty array\n",
    "    X = np.empty((VOLUME_SLICES, IMG_SIZE, IMG_SIZE, 2))\n",
    "\n",
    "    # Perform the same operations as our DataGenerator, to keep the same input shape\n",
    "    for j in range(VOLUME_SLICES):\n",
    "        X[j,:,:,0] = cv2.resize(flair[:,:,j+VOLUME_START_AT], (IMG_SIZE,IMG_SIZE))\n",
    "        X[j,:,:,1] = cv2.resize(t1ce[:,:,j+VOLUME_START_AT], (IMG_SIZE,IMG_SIZE))\n",
    "\n",
    "    # Send our images to the CNN model and return predicted segmentation\n",
    "    return model.predict(X/np.max(X), verbose=1)"
   ]
  },
  {
   "cell_type": "code",
   "execution_count": 27,
   "id": "6cc5f0a9",
   "metadata": {
    "execution": {
     "iopub.execute_input": "2024-10-13T21:35:38.134912Z",
     "iopub.status.busy": "2024-10-13T21:35:38.134521Z",
     "iopub.status.idle": "2024-10-13T21:35:38.146853Z",
     "shell.execute_reply": "2024-10-13T21:35:38.145955Z"
    },
    "papermill": {
     "duration": 0.677569,
     "end_time": "2024-10-13T21:35:38.149456",
     "exception": false,
     "start_time": "2024-10-13T21:35:37.471887",
     "status": "completed"
    },
    "tags": []
   },
   "outputs": [
    {
     "name": "stderr",
     "output_type": "stream",
     "text": [
      "/tmp/ipykernel_23/427850481.py:2: MatplotlibDeprecationWarning: The get_cmap function was deprecated in Matplotlib 3.7 and will be removed two minor releases later. Use ``matplotlib.colormaps[name]`` or ``matplotlib.colormaps.get_cmap(obj)`` instead.\n",
      "  cmap = cm.get_cmap('viridis')\n"
     ]
    }
   ],
   "source": [
    "import matplotlib.cm as cm\n",
    "cmap = cm.get_cmap('viridis') \n",
    "def show_predicted_segmentations(samples_list, slice_to_plot, cmap, norm):\n",
    "    # Choose a random patient\n",
    "    random_sample = random.choice(samples_list)\n",
    "\n",
    "    # Get path of this patient\n",
    "    random_sample_path = os.path.join(TRAIN_DATASET_PATH, random_sample, random_sample)\n",
    "\n",
    "    # Predict patient's segmentation\n",
    "    predicted_seg = predict_segmentation(random_sample_path)\n",
    "\n",
    "    # Load patient's original segmentation (Ground truth)\n",
    "    seg_path = random_sample_path + '_seg.nii'\n",
    "    seg = nib.load(seg_path).get_fdata()\n",
    "\n",
    "    # Resize original segmentation to the same dimensions of the predictions. (Add VOLUME_START_AT because original segmentation contains 155 slices vs only 75 for our prediction)\n",
    "    seg=cv2.resize(seg[:,:,slice_to_plot+VOLUME_START_AT], (IMG_SIZE, IMG_SIZE), interpolation = cv2.INTER_NEAREST)\n",
    "\n",
    "    # Differentiate segmentations by their labels\n",
    "    all = predicted_seg[slice_to_plot,:,:,1:4] # Deletion of class 0 (Keep only Core + Edema + Enhancing classes)\n",
    "    zero = predicted_seg[slice_to_plot,:,:,0] # Isolation of class 0, Background (kind of useless, it is the opposite of the \"all\")\n",
    "    first = predicted_seg[slice_to_plot,:,:,1] # Isolation of class 1, Core\n",
    "    second = predicted_seg[slice_to_plot,:,:,2] # Isolation of class 2, Edema\n",
    "    third = predicted_seg[slice_to_plot,:,:,3] # Isolation of class 3, Enhancing\n",
    "\n",
    "    # Plot Original segmentation & predicted segmentation\n",
    "    print(\"Patient number: \", random_sample)\n",
    "    fig, axstest = plt.subplots(1, 6, figsize=(25, 20))\n",
    "\n",
    "    # Original segmentation\n",
    "    axstest[0].imshow(seg, cmap, norm)\n",
    "    axstest[0].set_title('Original Segmentation')\n",
    "\n",
    "    # Layers 1, 2, 3\n",
    "    axstest[1].imshow(all, cmap, norm)\n",
    "    axstest[1].set_title('Predicted Segmentation - all classes')\n",
    "\n",
    "    # Layer 0\n",
    "    axstest[2].imshow(zero)\n",
    "    axstest[2].set_title('Predicted Segmentation - Not Tumor')\n",
    "\n",
    "    # Layer 1\n",
    "    axstest[3].imshow(first)\n",
    "    axstest[3].set_title('Predicted Segmentation - Necrotic/Core')\n",
    "\n",
    "    # Layer 2\n",
    "    axstest[4].imshow(second)\n",
    "    axstest[4].set_title('Predicted Segmentation - Edema')\n",
    "\n",
    "    # Layer 3\n",
    "    axstest[5].imshow(third)\n",
    "    axstest[5].set_title('Predicted Segmentation - Enhancing')\n",
    "\n",
    "    # Add space between subplots\n",
    "    plt.subplots_adjust(wspace=0.8)\n",
    "\n",
    "    plt.show()"
   ]
  },
  {
   "cell_type": "code",
   "execution_count": 28,
   "id": "a03fad13",
   "metadata": {
    "execution": {
     "iopub.execute_input": "2024-10-13T21:35:39.493377Z",
     "iopub.status.busy": "2024-10-13T21:35:39.492355Z",
     "iopub.status.idle": "2024-10-13T21:35:47.284905Z",
     "shell.execute_reply": "2024-10-13T21:35:47.283932Z"
    },
    "papermill": {
     "duration": 8.445299,
     "end_time": "2024-10-13T21:35:47.287661",
     "exception": false,
     "start_time": "2024-10-13T21:35:38.842362",
     "status": "completed"
    },
    "tags": []
   },
   "outputs": [
    {
     "name": "stdout",
     "output_type": "stream",
     "text": [
      "\u001b[1m4/4\u001b[0m \u001b[32m━━━━━━━━━━━━━━━━━━━━\u001b[0m\u001b[37m\u001b[0m \u001b[1m6s\u001b[0m 680ms/step\n",
      "Patient number:  BraTS20_Training_145\n"
     ]
    },
    {
     "data": {
      "image/png": "[encoded data removed]",
      "text/plain": [
       "<Figure size 2500x2000 with 6 Axes>"
      ]
     },
     "metadata": {},
     "output_type": "display_data"
    }
   ],
   "source": [
    "norm = matplotlib.colors.BoundaryNorm([-0.5, 0.5, 1.5, 2.5, 3.5], cmap.N)\n",
    "show_predicted_segmentations(test_ids1, 60, cmap, norm)"
   ]
  },
  {
   "cell_type": "code",
   "execution_count": 29,
   "id": "9454b4ca",
   "metadata": {
    "execution": {
     "iopub.execute_input": "2024-10-13T21:35:48.654311Z",
     "iopub.status.busy": "2024-10-13T21:35:48.653888Z",
     "iopub.status.idle": "2024-10-13T21:35:49.877763Z",
     "shell.execute_reply": "2024-10-13T21:35:49.876886Z"
    },
    "papermill": {
     "duration": 1.928794,
     "end_time": "2024-10-13T21:35:49.880041",
     "exception": false,
     "start_time": "2024-10-13T21:35:47.951247",
     "status": "completed"
    },
    "tags": []
   },
   "outputs": [
    {
     "name": "stdout",
     "output_type": "stream",
     "text": [
      "\u001b[1m4/4\u001b[0m \u001b[32m━━━━━━━━━━━━━━━━━━━━\u001b[0m\u001b[37m\u001b[0m \u001b[1m0s\u001b[0m 21ms/step\n"
     ]
    },
    {
     "data": {
      "text/plain": [
       "<Figure size 640x480 with 0 Axes>"
      ]
     },
     "metadata": {},
     "output_type": "display_data"
    },
    {
     "data": {
      "image/png": "[encoded data removed]",
      "text/plain": [
       "<Figure size 640x480 with 2 Axes>"
      ]
     },
     "metadata": {},
     "output_type": "display_data"
    }
   ],
   "source": [
    "case = test_ids1[3][-3:]\n",
    "path = f\"/kaggle/input/brats20-dataset-training-validation/BraTS2020_TrainingData/MICCAI_BraTS2020_TrainingData/BraTS20_Training_{case}\"\n",
    "gt = nib.load(os.path.join(path, f'BraTS20_Training_{case}_seg.nii')).get_fdata()\n",
    "p = predictByPath(path,case)\n",
    "\n",
    "core = p[:,:,:,1]\n",
    "edema= p[:,:,:,2]\n",
    "enhancing = p[:,:,:,3]\n",
    "\n",
    "i=40 # slice at\n",
    "eval_class = 2 #     0 : 'NOT tumor',  1 : 'ENHANCING',    2 : 'CORE',    3 : 'WHOLE'\n",
    "\n",
    "gt[gt != eval_class] = 1 # use only one class for per class evaluation\n",
    "\n",
    "resized_gt = cv2.resize(gt[:,:,i+VOLUME_START_AT], (IMG_SIZE, IMG_SIZE))\n",
    "\n",
    "plt.figure()\n",
    "f, axarr = plt.subplots(1,2)\n",
    "axarr[0].imshow(resized_gt, cmap=\"gray\")\n",
    "axarr[0].title.set_text('ground truth')\n",
    "axarr[1].imshow(p[i,:,:,eval_class], cmap=\"gray\")\n",
    "axarr[1].title.set_text(f'predicted class: {SEGMENT_CLASSES[eval_class]}')\n",
    "plt.show()"
   ]
  },
  {
   "cell_type": "code",
   "execution_count": 30,
   "id": "8b49cb05",
   "metadata": {
    "execution": {
     "iopub.execute_input": "2024-10-13T21:35:51.185191Z",
     "iopub.status.busy": "2024-10-13T21:35:51.184777Z",
     "iopub.status.idle": "2024-10-13T21:35:51.457889Z",
     "shell.execute_reply": "2024-10-13T21:35:51.456993Z"
    },
    "papermill": {
     "duration": 0.925408,
     "end_time": "2024-10-13T21:35:51.459950",
     "exception": false,
     "start_time": "2024-10-13T21:35:50.534542",
     "status": "completed"
    },
    "tags": []
   },
   "outputs": [
    {
     "data": {
      "text/plain": [
       "17754"
      ]
     },
     "execution_count": 30,
     "metadata": {},
     "output_type": "execute_result"
    }
   ],
   "source": [
    "import gc\n",
    "gc.collect()"
   ]
  },
  {
   "cell_type": "code",
   "execution_count": 31,
   "id": "3c6ebde3",
   "metadata": {
    "execution": {
     "iopub.execute_input": "2024-10-13T21:35:52.809063Z",
     "iopub.status.busy": "2024-10-13T21:35:52.807922Z",
     "iopub.status.idle": "2024-10-13T21:36:42.449068Z",
     "shell.execute_reply": "2024-10-13T21:36:42.448172Z"
    },
    "papermill": {
     "duration": 50.297988,
     "end_time": "2024-10-13T21:36:42.451048",
     "exception": false,
     "start_time": "2024-10-13T21:35:52.153060",
     "status": "completed"
    },
    "tags": []
   },
   "outputs": [
    {
     "name": "stderr",
     "output_type": "stream",
     "text": [
      "/opt/conda/lib/python3.10/site-packages/keras/src/trainers/data_adapters/py_dataset_adapter.py:121: UserWarning: Your `PyDataset` class should call `super().__init__(**kwargs)` in its constructor. `**kwargs` can include `workers`, `use_multiprocessing`, `max_queue_size`. Do not pass these arguments to `fit()`, as they will be ignored.\n",
      "  self._warn_if_super_not_called()\n"
     ]
    },
    {
     "name": "stdout",
     "output_type": "stream",
     "text": [
      "\u001b[1m250/250\u001b[0m \u001b[32m━━━━━━━━━━━━━━━━━━━━\u001b[0m\u001b[37m\u001b[0m \u001b[1m49s\u001b[0m 183ms/step - accuracy: 0.9925 - dice_coef: 0.5478 - dice_coef_edema: 0.6521 - dice_coef_enhancing: 0.5913 - dice_coef_necrotic: 0.4455 - loss: 0.0209 - mean_io_u_2: 0.5208 - precision: 0.9955 - sensitivity: 0.9901 - specificity: 0.9985\n",
      "\n",
      "Model evaluation on the test set:\n",
      "==================================\n",
      "Loss : 0.0211\n",
      "Accuracy : 0.9924\n",
      "MeanIOU : 0.5\n",
      "Dice coefficient : 0.5473\n",
      "Precision : 0.9954\n",
      "Sensitivity : 0.9899\n",
      "Specificity : 0.9985\n",
      "Dice coef Necrotic : 0.4457\n",
      "Dice coef Edema : 0.6576\n",
      "Dice coef Enhancing : 0.5791\n"
     ]
    }
   ],
   "source": [
    "# Evaluate the model on the test data\n",
    "model.compile(loss=\"categorical_crossentropy\",\n",
    "              optimizer=keras.optimizers.Adam(learning_rate=0.001),\n",
    "              metrics = ['accuracy',tf.keras.metrics.MeanIoU(num_classes=4), dice_coef, precision, sensitivity, specificity, dice_coef_necrotic, dice_coef_edema, dice_coef_enhancing])\n",
    "\n",
    "results = model.evaluate(test_generator, batch_size=100, callbacks= callbacks)\n",
    "\n",
    "descriptions = [\"Loss\", \"Accuracy\", \"MeanIOU\", \"Dice coefficient\", \"Precision\", \"Sensitivity\", \"Specificity\", \"Dice coef Necrotic\", \"Dice coef Edema\", \"Dice coef Enhancing\"]\n",
    "\n",
    "# Combine results list and descriptions list\n",
    "results_list = zip(results, descriptions)\n",
    "\n",
    "# Display each metric with its description\n",
    "print(\"\\nModel evaluation on the test set:\")\n",
    "print(\"==================================\")\n",
    "for i, (metric, description) in enumerate(results_list):\n",
    "    print(f\"{description} : {round(metric, 4)}\")"
   ]
  },
  {
   "cell_type": "code",
   "execution_count": null,
   "id": "ba424746",
   "metadata": {
    "papermill": {
     "duration": 0.678921,
     "end_time": "2024-10-13T21:36:43.865188",
     "exception": false,
     "start_time": "2024-10-13T21:36:43.186267",
     "status": "completed"
    },
    "tags": []
   },
   "outputs": [],
   "source": []
  }
 ],
 "metadata": {
  "kaggle": {
   "accelerator": "gpu",
   "dataSources": [
    {
     "datasetId": 181273,
     "sourceId": 407317,
     "sourceType": "datasetVersion"
    },
    {
     "datasetId": 751906,
     "sourceId": 1299795,
     "sourceType": "datasetVersion"
    }
   ],
   "dockerImageVersionId": 30787,
   "isGpuEnabled": true,
   "isInternetEnabled": true,
   "language": "python",
   "sourceType": "notebook"
  },
  "kernelspec": {
   "display_name": "Python 3",
   "language": "python",
   "name": "python3"
  },
  "language_info": {
   "codemirror_mode": {
    "name": "ipython",
    "version": 3
   },
   "file_extension": ".py",
   "mimetype": "text/x-python",
   "name": "python",
   "nbconvert_exporter": "python",
   "pygments_lexer": "ipython3",
   "version": "3.10.14"
  },
  "papermill": {
   "default_parameters": {},
   "duration": 3870.21844,
   "end_time": "2024-10-13T21:36:47.886581",
   "environment_variables": {},
   "exception": null,
   "input_path": "__notebook__.ipynb",
   "output_path": "__notebook__.ipynb",
   "parameters": {},
   "start_time": "2024-10-13T20:32:17.668141",
   "version": "2.6.0"
  }
 },
 "nbformat": 4,
 "nbformat_minor": 5
}
