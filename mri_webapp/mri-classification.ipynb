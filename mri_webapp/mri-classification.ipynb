{
 "cells": [
  {
   "cell_type": "markdown",
   "id": "69964499",
   "metadata": {
    "papermill": {
     "duration": 0.010292,
     "end_time": "2024-10-15T16:46:08.071834",
     "exception": false,
     "start_time": "2024-10-15T16:46:08.061542",
     "status": "completed"
    },
    "tags": []
   },
   "source": [
    "# Notebook's content\n",
    "1. [Importing libraries](#0)\n",
    "2. [Split dataset](#1)\n",
    "3. [Loading data](#2)\n",
    "3. [Dataset overview](#3)\n",
    "4. [Images pre-processing](#4)\n",
    "5. [CNN Model](#5)"
   ]
  },
  {
   "cell_type": "markdown",
   "id": "a2e03edc",
   "metadata": {
    "papermill": {
     "duration": 0.009311,
     "end_time": "2024-10-15T16:46:08.090967",
     "exception": false,
     "start_time": "2024-10-15T16:46:08.081656",
     "status": "completed"
    },
    "tags": []
   },
   "source": [
    "<a id=\"0\"></a> <br>\n",
    "# Importing libraries"
   ]
  },
  {
   "cell_type": "code",
   "execution_count": 1,
   "id": "cdb29bbb",
   "metadata": {
    "_cell_guid": "b1076dfc-b9ad-4769-8c92-a6c4dae69d19",
    "_uuid": "8f2839f25d086af736a60e9eeb907d3b93b6e0e5",
    "execution": {
     "iopub.execute_input": "2024-10-15T16:46:08.111860Z",
     "iopub.status.busy": "2024-10-15T16:46:08.111479Z",
     "iopub.status.idle": "2024-10-15T16:46:23.834645Z",
     "shell.execute_reply": "2024-10-15T16:46:23.833609Z"
    },
    "papermill": {
     "duration": 15.736605,
     "end_time": "2024-10-15T16:46:23.837318",
     "exception": false,
     "start_time": "2024-10-15T16:46:08.100713",
     "status": "completed"
    },
    "tags": []
   },
   "outputs": [
    {
     "name": "stderr",
     "output_type": "stream",
     "text": [
      "/opt/conda/lib/python3.10/site-packages/tensorflow_io/python/ops/__init__.py:98: UserWarning: unable to load libtensorflow_io_plugins.so: unable to open file: libtensorflow_io_plugins.so, from paths: ['/opt/conda/lib/python3.10/site-packages/tensorflow_io/python/ops/libtensorflow_io_plugins.so']\n",
      "caused by: ['/opt/conda/lib/python3.10/site-packages/tensorflow_io/python/ops/libtensorflow_io_plugins.so: undefined symbol: _ZN3tsl6StatusC1EN10tensorflow5error4CodeESt17basic_string_viewIcSt11char_traitsIcEENS_14SourceLocationE']\n",
      "  warnings.warn(f\"unable to load libtensorflow_io_plugins.so: {e}\")\n",
      "/opt/conda/lib/python3.10/site-packages/tensorflow_io/python/ops/__init__.py:104: UserWarning: file system plugins are not loaded: unable to open file: libtensorflow_io.so, from paths: ['/opt/conda/lib/python3.10/site-packages/tensorflow_io/python/ops/libtensorflow_io.so']\n",
      "caused by: ['/opt/conda/lib/python3.10/site-packages/tensorflow_io/python/ops/libtensorflow_io.so: undefined symbol: _ZTVN10tensorflow13GcsFileSystemE']\n",
      "  warnings.warn(f\"file system plugins are not loaded: {e}\")\n"
     ]
    }
   ],
   "source": [
    "# First we will import neccessary libraries\n",
    "import pandas as pd\n",
    "import numpy as np\n",
    "import tensorflow as tf\n",
    "import os\n",
    "import cv2 as cv\n",
    "from tensorflow import keras\n",
    "from sklearn.model_selection import train_test_split\n",
    "from sklearn import preprocessing\n",
    "import matplotlib.pyplot as plt\n",
    "import numpy as np\n",
    "import tensorflow as tf\n",
    "from tensorflow.keras.layers import Dense, Conv2D, Flatten, Dropout, MaxPooling2D\n",
    "from tensorflow.keras.models import Sequential\n",
    "from tensorflow.keras.preprocessing.image import ImageDataGenerator\n",
    "from sklearn.model_selection import train_test_split\n",
    "from keras.layers import Lambda\n",
    "from PIL import Image"
   ]
  },
  {
   "cell_type": "markdown",
   "id": "8758b6b2",
   "metadata": {
    "papermill": {
     "duration": 0.01004,
     "end_time": "2024-10-15T16:46:23.858380",
     "exception": false,
     "start_time": "2024-10-15T16:46:23.848340",
     "status": "completed"
    },
    "tags": []
   },
   "source": [
    "# Split dataset into train , val and test sets\n",
    "<a id=\"1\"></a> <br>"
   ]
  },
  {
   "cell_type": "markdown",
   "id": "420a9eca",
   "metadata": {
    "papermill": {
     "duration": 0.009706,
     "end_time": "2024-10-15T16:46:23.877994",
     "exception": false,
     "start_time": "2024-10-15T16:46:23.868288",
     "status": "completed"
    },
    "tags": []
   },
   "source": [
    "\n"
   ]
  },
  {
   "cell_type": "markdown",
   "id": "cb0e63d0",
   "metadata": {
    "papermill": {
     "duration": 0.009623,
     "end_time": "2024-10-15T16:46:23.897496",
     "exception": false,
     "start_time": "2024-10-15T16:46:23.887873",
     "status": "completed"
    },
    "tags": []
   },
   "source": [
    "<a id=\"2\"></a> <br>"
   ]
  },
  {
   "cell_type": "code",
   "execution_count": 2,
   "id": "1d92317b",
   "metadata": {
    "execution": {
     "iopub.execute_input": "2024-10-15T16:46:23.920242Z",
     "iopub.status.busy": "2024-10-15T16:46:23.919028Z",
     "iopub.status.idle": "2024-10-15T16:46:25.706108Z",
     "shell.execute_reply": "2024-10-15T16:46:25.705319Z"
    },
    "papermill": {
     "duration": 1.800808,
     "end_time": "2024-10-15T16:46:25.708328",
     "exception": false,
     "start_time": "2024-10-15T16:46:23.907520",
     "status": "completed"
    },
    "tags": []
   },
   "outputs": [],
   "source": [
    "#load train data\n",
    "path = \"/kaggle/input/brain-tumor-mri-dataset/Training\"\n",
    "key_value= dict()\n",
    "for i in os.listdir(path):\n",
    "    if os.path.isdir(os.path.join(path, i)):\n",
    "        key_value[i] = os.listdir(os.path.join(path, i))\n",
    "df = []\n",
    "for key in key_value.keys():\n",
    "    for j in key_value[key]:\n",
    "        df.append([key,os.path.join(path, key, j)])\n",
    "df1 = pd.DataFrame(df,columns=('label','path'))"
   ]
  },
  {
   "cell_type": "code",
   "execution_count": 3,
   "id": "0d791802",
   "metadata": {
    "execution": {
     "iopub.execute_input": "2024-10-15T16:46:25.729904Z",
     "iopub.status.busy": "2024-10-15T16:46:25.729539Z",
     "iopub.status.idle": "2024-10-15T16:46:27.151813Z",
     "shell.execute_reply": "2024-10-15T16:46:27.151050Z"
    },
    "papermill": {
     "duration": 1.435805,
     "end_time": "2024-10-15T16:46:27.154143",
     "exception": false,
     "start_time": "2024-10-15T16:46:25.718338",
     "status": "completed"
    },
    "tags": []
   },
   "outputs": [],
   "source": [
    "#load train data\n",
    "path = \"/kaggle/input/brain-tumor-classification-mri/Training\"\n",
    "key_value= dict()\n",
    "for i in os.listdir(path):\n",
    "    if os.path.isdir(os.path.join(path, i)):\n",
    "        key_value[i] = os.listdir(os.path.join(path, i))\n",
    "df = []\n",
    "for key in key_value.keys():\n",
    "    for j in key_value[key]:\n",
    "        df.append([key,os.path.join(path, key, j)])\n",
    "df2 = pd.DataFrame(df,columns=('label','path'))\n",
    "\n",
    "import pandas as pd\n",
    "\n",
    "df2['label'] = df2['label'].replace({\n",
    "    'glioma_tumor': 'glioma',\n",
    "    'no_tumor': 'notumor',\n",
    "    'meningioma_tumor': 'meningioma',\n",
    "    'pituitary_tumor': 'pituitary'\n",
    "})\n",
    "\n"
   ]
  },
  {
   "cell_type": "markdown",
   "id": "4b13cd52",
   "metadata": {
    "papermill": {
     "duration": 0.010332,
     "end_time": "2024-10-15T16:46:27.174517",
     "exception": false,
     "start_time": "2024-10-15T16:46:27.164185",
     "status": "completed"
    },
    "tags": []
   },
   "source": [
    "<a id=\"3\"></a> <br>"
   ]
  },
  {
   "cell_type": "code",
   "execution_count": null,
   "id": "212a379c",
   "metadata": {
    "papermill": {
     "duration": 0.009624,
     "end_time": "2024-10-15T16:46:27.194002",
     "exception": false,
     "start_time": "2024-10-15T16:46:27.184378",
     "status": "completed"
    },
    "tags": []
   },
   "outputs": [],
   "source": []
  },
  {
   "cell_type": "code",
   "execution_count": 4,
   "id": "6376c4b1",
   "metadata": {
    "execution": {
     "iopub.execute_input": "2024-10-15T16:46:27.215099Z",
     "iopub.status.busy": "2024-10-15T16:46:27.214754Z",
     "iopub.status.idle": "2024-10-15T16:46:27.231272Z",
     "shell.execute_reply": "2024-10-15T16:46:27.230380Z"
    },
    "papermill": {
     "duration": 0.029513,
     "end_time": "2024-10-15T16:46:27.233325",
     "exception": false,
     "start_time": "2024-10-15T16:46:27.203812",
     "status": "completed"
    },
    "tags": []
   },
   "outputs": [
    {
     "data": {
      "text/html": [
       "<div>\n",
       "<style scoped>\n",
       "    .dataframe tbody tr th:only-of-type {\n",
       "        vertical-align: middle;\n",
       "    }\n",
       "\n",
       "    .dataframe tbody tr th {\n",
       "        vertical-align: top;\n",
       "    }\n",
       "\n",
       "    .dataframe thead th {\n",
       "        text-align: right;\n",
       "    }\n",
       "</style>\n",
       "<table border=\"1\" class=\"dataframe\">\n",
       "  <thead>\n",
       "    <tr style=\"text-align: right;\">\n",
       "      <th></th>\n",
       "      <th>label</th>\n",
       "      <th>path</th>\n",
       "    </tr>\n",
       "  </thead>\n",
       "  <tbody>\n",
       "    <tr>\n",
       "      <th>0</th>\n",
       "      <td>notumor</td>\n",
       "      <td>/kaggle/input/brain-tumor-classification-mri/T...</td>\n",
       "    </tr>\n",
       "    <tr>\n",
       "      <th>1</th>\n",
       "      <td>notumor</td>\n",
       "      <td>/kaggle/input/brain-tumor-classification-mri/T...</td>\n",
       "    </tr>\n",
       "    <tr>\n",
       "      <th>2</th>\n",
       "      <td>notumor</td>\n",
       "      <td>/kaggle/input/brain-tumor-classification-mri/T...</td>\n",
       "    </tr>\n",
       "    <tr>\n",
       "      <th>3</th>\n",
       "      <td>notumor</td>\n",
       "      <td>/kaggle/input/brain-tumor-classification-mri/T...</td>\n",
       "    </tr>\n",
       "    <tr>\n",
       "      <th>4</th>\n",
       "      <td>notumor</td>\n",
       "      <td>/kaggle/input/brain-tumor-classification-mri/T...</td>\n",
       "    </tr>\n",
       "    <tr>\n",
       "      <th>...</th>\n",
       "      <td>...</td>\n",
       "      <td>...</td>\n",
       "    </tr>\n",
       "    <tr>\n",
       "      <th>2865</th>\n",
       "      <td>glioma</td>\n",
       "      <td>/kaggle/input/brain-tumor-classification-mri/T...</td>\n",
       "    </tr>\n",
       "    <tr>\n",
       "      <th>2866</th>\n",
       "      <td>glioma</td>\n",
       "      <td>/kaggle/input/brain-tumor-classification-mri/T...</td>\n",
       "    </tr>\n",
       "    <tr>\n",
       "      <th>2867</th>\n",
       "      <td>glioma</td>\n",
       "      <td>/kaggle/input/brain-tumor-classification-mri/T...</td>\n",
       "    </tr>\n",
       "    <tr>\n",
       "      <th>2868</th>\n",
       "      <td>glioma</td>\n",
       "      <td>/kaggle/input/brain-tumor-classification-mri/T...</td>\n",
       "    </tr>\n",
       "    <tr>\n",
       "      <th>2869</th>\n",
       "      <td>glioma</td>\n",
       "      <td>/kaggle/input/brain-tumor-classification-mri/T...</td>\n",
       "    </tr>\n",
       "  </tbody>\n",
       "</table>\n",
       "<p>2870 rows × 2 columns</p>\n",
       "</div>"
      ],
      "text/plain": [
       "        label                                               path\n",
       "0     notumor  /kaggle/input/brain-tumor-classification-mri/T...\n",
       "1     notumor  /kaggle/input/brain-tumor-classification-mri/T...\n",
       "2     notumor  /kaggle/input/brain-tumor-classification-mri/T...\n",
       "3     notumor  /kaggle/input/brain-tumor-classification-mri/T...\n",
       "4     notumor  /kaggle/input/brain-tumor-classification-mri/T...\n",
       "...       ...                                                ...\n",
       "2865   glioma  /kaggle/input/brain-tumor-classification-mri/T...\n",
       "2866   glioma  /kaggle/input/brain-tumor-classification-mri/T...\n",
       "2867   glioma  /kaggle/input/brain-tumor-classification-mri/T...\n",
       "2868   glioma  /kaggle/input/brain-tumor-classification-mri/T...\n",
       "2869   glioma  /kaggle/input/brain-tumor-classification-mri/T...\n",
       "\n",
       "[2870 rows x 2 columns]"
      ]
     },
     "execution_count": 4,
     "metadata": {},
     "output_type": "execute_result"
    }
   ],
   "source": [
    "df2"
   ]
  },
  {
   "cell_type": "code",
   "execution_count": 5,
   "id": "9e85480b",
   "metadata": {
    "execution": {
     "iopub.execute_input": "2024-10-15T16:46:27.255890Z",
     "iopub.status.busy": "2024-10-15T16:46:27.255546Z",
     "iopub.status.idle": "2024-10-15T16:46:27.268107Z",
     "shell.execute_reply": "2024-10-15T16:46:27.267098Z"
    },
    "papermill": {
     "duration": 0.026972,
     "end_time": "2024-10-15T16:46:27.270250",
     "exception": false,
     "start_time": "2024-10-15T16:46:27.243278",
     "status": "completed"
    },
    "tags": []
   },
   "outputs": [
    {
     "data": {
      "text/html": [
       "<div>\n",
       "<style scoped>\n",
       "    .dataframe tbody tr th:only-of-type {\n",
       "        vertical-align: middle;\n",
       "    }\n",
       "\n",
       "    .dataframe tbody tr th {\n",
       "        vertical-align: top;\n",
       "    }\n",
       "\n",
       "    .dataframe thead th {\n",
       "        text-align: right;\n",
       "    }\n",
       "</style>\n",
       "<table border=\"1\" class=\"dataframe\">\n",
       "  <thead>\n",
       "    <tr style=\"text-align: right;\">\n",
       "      <th></th>\n",
       "      <th>label</th>\n",
       "      <th>path</th>\n",
       "    </tr>\n",
       "  </thead>\n",
       "  <tbody>\n",
       "    <tr>\n",
       "      <th>0</th>\n",
       "      <td>pituitary</td>\n",
       "      <td>/kaggle/input/brain-tumor-mri-dataset/Training...</td>\n",
       "    </tr>\n",
       "    <tr>\n",
       "      <th>1</th>\n",
       "      <td>pituitary</td>\n",
       "      <td>/kaggle/input/brain-tumor-mri-dataset/Training...</td>\n",
       "    </tr>\n",
       "    <tr>\n",
       "      <th>2</th>\n",
       "      <td>pituitary</td>\n",
       "      <td>/kaggle/input/brain-tumor-mri-dataset/Training...</td>\n",
       "    </tr>\n",
       "    <tr>\n",
       "      <th>3</th>\n",
       "      <td>pituitary</td>\n",
       "      <td>/kaggle/input/brain-tumor-mri-dataset/Training...</td>\n",
       "    </tr>\n",
       "    <tr>\n",
       "      <th>4</th>\n",
       "      <td>pituitary</td>\n",
       "      <td>/kaggle/input/brain-tumor-mri-dataset/Training...</td>\n",
       "    </tr>\n",
       "    <tr>\n",
       "      <th>...</th>\n",
       "      <td>...</td>\n",
       "      <td>...</td>\n",
       "    </tr>\n",
       "    <tr>\n",
       "      <th>2865</th>\n",
       "      <td>glioma</td>\n",
       "      <td>/kaggle/input/brain-tumor-classification-mri/T...</td>\n",
       "    </tr>\n",
       "    <tr>\n",
       "      <th>2866</th>\n",
       "      <td>glioma</td>\n",
       "      <td>/kaggle/input/brain-tumor-classification-mri/T...</td>\n",
       "    </tr>\n",
       "    <tr>\n",
       "      <th>2867</th>\n",
       "      <td>glioma</td>\n",
       "      <td>/kaggle/input/brain-tumor-classification-mri/T...</td>\n",
       "    </tr>\n",
       "    <tr>\n",
       "      <th>2868</th>\n",
       "      <td>glioma</td>\n",
       "      <td>/kaggle/input/brain-tumor-classification-mri/T...</td>\n",
       "    </tr>\n",
       "    <tr>\n",
       "      <th>2869</th>\n",
       "      <td>glioma</td>\n",
       "      <td>/kaggle/input/brain-tumor-classification-mri/T...</td>\n",
       "    </tr>\n",
       "  </tbody>\n",
       "</table>\n",
       "<p>8582 rows × 2 columns</p>\n",
       "</div>"
      ],
      "text/plain": [
       "          label                                               path\n",
       "0     pituitary  /kaggle/input/brain-tumor-mri-dataset/Training...\n",
       "1     pituitary  /kaggle/input/brain-tumor-mri-dataset/Training...\n",
       "2     pituitary  /kaggle/input/brain-tumor-mri-dataset/Training...\n",
       "3     pituitary  /kaggle/input/brain-tumor-mri-dataset/Training...\n",
       "4     pituitary  /kaggle/input/brain-tumor-mri-dataset/Training...\n",
       "...         ...                                                ...\n",
       "2865     glioma  /kaggle/input/brain-tumor-classification-mri/T...\n",
       "2866     glioma  /kaggle/input/brain-tumor-classification-mri/T...\n",
       "2867     glioma  /kaggle/input/brain-tumor-classification-mri/T...\n",
       "2868     glioma  /kaggle/input/brain-tumor-classification-mri/T...\n",
       "2869     glioma  /kaggle/input/brain-tumor-classification-mri/T...\n",
       "\n",
       "[8582 rows x 2 columns]"
      ]
     },
     "execution_count": 5,
     "metadata": {},
     "output_type": "execute_result"
    }
   ],
   "source": [
    "df = pd.concat([df1, df2], axis=0)\n",
    "df"
   ]
  },
  {
   "cell_type": "code",
   "execution_count": 6,
   "id": "7e30e356",
   "metadata": {
    "execution": {
     "iopub.execute_input": "2024-10-15T16:46:27.292479Z",
     "iopub.status.busy": "2024-10-15T16:46:27.292103Z",
     "iopub.status.idle": "2024-10-15T16:46:27.321357Z",
     "shell.execute_reply": "2024-10-15T16:46:27.320405Z"
    },
    "papermill": {
     "duration": 0.042637,
     "end_time": "2024-10-15T16:46:27.323307",
     "exception": false,
     "start_time": "2024-10-15T16:46:27.280670",
     "status": "completed"
    },
    "tags": []
   },
   "outputs": [
    {
     "data": {
      "text/html": [
       "<div>\n",
       "<style scoped>\n",
       "    .dataframe tbody tr th:only-of-type {\n",
       "        vertical-align: middle;\n",
       "    }\n",
       "\n",
       "    .dataframe tbody tr th {\n",
       "        vertical-align: top;\n",
       "    }\n",
       "\n",
       "    .dataframe thead th {\n",
       "        text-align: right;\n",
       "    }\n",
       "</style>\n",
       "<table border=\"1\" class=\"dataframe\">\n",
       "  <thead>\n",
       "    <tr style=\"text-align: right;\">\n",
       "      <th></th>\n",
       "      <th>label</th>\n",
       "      <th>path</th>\n",
       "    </tr>\n",
       "  </thead>\n",
       "  <tbody>\n",
       "    <tr>\n",
       "      <th>count</th>\n",
       "      <td>8582</td>\n",
       "      <td>8582</td>\n",
       "    </tr>\n",
       "    <tr>\n",
       "      <th>unique</th>\n",
       "      <td>4</td>\n",
       "      <td>8582</td>\n",
       "    </tr>\n",
       "    <tr>\n",
       "      <th>top</th>\n",
       "      <td>pituitary</td>\n",
       "      <td>/kaggle/input/brain-tumor-mri-dataset/Training...</td>\n",
       "    </tr>\n",
       "    <tr>\n",
       "      <th>freq</th>\n",
       "      <td>2284</td>\n",
       "      <td>1</td>\n",
       "    </tr>\n",
       "  </tbody>\n",
       "</table>\n",
       "</div>"
      ],
      "text/plain": [
       "            label                                               path\n",
       "count        8582                                               8582\n",
       "unique          4                                               8582\n",
       "top     pituitary  /kaggle/input/brain-tumor-mri-dataset/Training...\n",
       "freq         2284                                                  1"
      ]
     },
     "execution_count": 6,
     "metadata": {},
     "output_type": "execute_result"
    }
   ],
   "source": [
    "df.describe()"
   ]
  },
  {
   "cell_type": "code",
   "execution_count": 7,
   "id": "77238fd0",
   "metadata": {
    "execution": {
     "iopub.execute_input": "2024-10-15T16:46:27.345701Z",
     "iopub.status.busy": "2024-10-15T16:46:27.345351Z",
     "iopub.status.idle": "2024-10-15T16:46:27.351377Z",
     "shell.execute_reply": "2024-10-15T16:46:27.350584Z"
    },
    "papermill": {
     "duration": 0.019503,
     "end_time": "2024-10-15T16:46:27.353260",
     "exception": false,
     "start_time": "2024-10-15T16:46:27.333757",
     "status": "completed"
    },
    "tags": []
   },
   "outputs": [
    {
     "data": {
      "text/plain": [
       "'#load val data\\npath2 = \"/kaggle/working/dataset/val\"\\nkey_value= dict()\\nfor i in os.listdir(path2):\\n    if os.path.isdir(os.path.join(path2, i)):\\n        key_value[i] = os.listdir(os.path.join(path2, i))\\ndfv = []\\nfor key in key_value.keys():\\n    for j in key_value[key]:\\n        dfv.append([key,os.path.join(path2, key, j)])\\ndf2 = pd.DataFrame(dfv,columns=(\\'label\\',\\'path2\\'))\\ndf2'"
      ]
     },
     "execution_count": 7,
     "metadata": {},
     "output_type": "execute_result"
    }
   ],
   "source": [
    "'''#load val data\n",
    "path2 = \"/kaggle/working/dataset/val\"\n",
    "key_value= dict()\n",
    "for i in os.listdir(path2):\n",
    "    if os.path.isdir(os.path.join(path2, i)):\n",
    "        key_value[i] = os.listdir(os.path.join(path2, i))\n",
    "dfv = []\n",
    "for key in key_value.keys():\n",
    "    for j in key_value[key]:\n",
    "        dfv.append([key,os.path.join(path2, key, j)])\n",
    "df2 = pd.DataFrame(dfv,columns=('label','path2'))\n",
    "df2'''"
   ]
  },
  {
   "cell_type": "markdown",
   "id": "115b4d0b",
   "metadata": {
    "papermill": {
     "duration": 0.010331,
     "end_time": "2024-10-15T16:46:27.374892",
     "exception": false,
     "start_time": "2024-10-15T16:46:27.364561",
     "status": "completed"
    },
    "tags": []
   },
   "source": [
    "\n",
    "<a id=\"4\"></a> <br>\n",
    "# Images pre-processing"
   ]
  },
  {
   "cell_type": "code",
   "execution_count": 8,
   "id": "a781bd43",
   "metadata": {
    "execution": {
     "iopub.execute_input": "2024-10-15T16:46:27.397731Z",
     "iopub.status.busy": "2024-10-15T16:46:27.397386Z",
     "iopub.status.idle": "2024-10-15T16:48:25.831522Z",
     "shell.execute_reply": "2024-10-15T16:48:25.830358Z"
    },
    "papermill": {
     "duration": 118.448888,
     "end_time": "2024-10-15T16:48:25.834278",
     "exception": false,
     "start_time": "2024-10-15T16:46:27.385390",
     "status": "completed"
    },
    "tags": []
   },
   "outputs": [],
   "source": [
    "images = []\n",
    "labels = []\n",
    "for path, label in zip(df['path'], df['label']):\n",
    "    try:\n",
    "        img = cv.imread(path)\n",
    "        img = cv.resize(img, (128, 128))\n",
    "        img = cv.cvtColor(img, cv.COLOR_BGR2GRAY)\n",
    "        if img is not None:\n",
    "            images.append(img)\n",
    "            labels.append(label)\n",
    "        else:\n",
    "            print(f\"Image at path {path} is None\")\n",
    "    except Exception as e:\n",
    "        print(f\"Error reading or resizing image at path: {path}\")\n",
    "        print(f\"Error message: {str(e)}\")\n",
    "\n",
    "images = np.array(images, dtype='float')\n",
    "#_, images = cv.threshold(images, 127, 255, cv.THRESH_BINARY)\n",
    "labels = np.array(labels)\n",
    "\n",
    "le = preprocessing.LabelEncoder()\n",
    "y_labels = le.fit_transform(labels)\n",
    "\n",
    "# Split the data into training and testing\n",
    "train_images= images\n",
    "train_ls= y_labels\n",
    "# Convert images to RGB color space\n",
    "train_images_rgb = np.repeat(train_images[..., np.newaxis], 3, -1)\n",
    "\n",
    "# Normalize images\n",
    "train_images_normalized = train_images / 255.0\n"
   ]
  },
  {
   "cell_type": "markdown",
   "id": "dd63b4e6",
   "metadata": {
    "papermill": {
     "duration": 0.010652,
     "end_time": "2024-10-15T16:48:25.856212",
     "exception": false,
     "start_time": "2024-10-15T16:48:25.845560",
     "status": "completed"
    },
    "tags": []
   },
   "source": [
    "# CNN Model\n",
    "<a id=\"5\"></a> <br>"
   ]
  },
  {
   "cell_type": "code",
   "execution_count": 9,
   "id": "7b96fc80",
   "metadata": {
    "execution": {
     "iopub.execute_input": "2024-10-15T16:48:25.879301Z",
     "iopub.status.busy": "2024-10-15T16:48:25.878925Z",
     "iopub.status.idle": "2024-10-15T16:48:26.122960Z",
     "shell.execute_reply": "2024-10-15T16:48:26.122075Z"
    },
    "papermill": {
     "duration": 0.258062,
     "end_time": "2024-10-15T16:48:26.124869",
     "exception": false,
     "start_time": "2024-10-15T16:48:25.866807",
     "status": "completed"
    },
    "tags": []
   },
   "outputs": [
    {
     "data": {
      "text/plain": [
       "0"
      ]
     },
     "execution_count": 9,
     "metadata": {},
     "output_type": "execute_result"
    }
   ],
   "source": [
    "import gc\n",
    "\n",
    "# Manually run garbage collection\n",
    "gc.collect()\n"
   ]
  },
  {
   "cell_type": "code",
   "execution_count": 10,
   "id": "c044701b",
   "metadata": {
    "execution": {
     "iopub.execute_input": "2024-10-15T16:48:26.148727Z",
     "iopub.status.busy": "2024-10-15T16:48:26.147884Z",
     "iopub.status.idle": "2024-10-15T16:48:26.487639Z",
     "shell.execute_reply": "2024-10-15T16:48:26.486683Z"
    },
    "papermill": {
     "duration": 0.354188,
     "end_time": "2024-10-15T16:48:26.489900",
     "exception": false,
     "start_time": "2024-10-15T16:48:26.135712",
     "status": "completed"
    },
    "tags": []
   },
   "outputs": [
    {
     "name": "stdout",
     "output_type": "stream",
     "text": [
      "Num GPUs Available: 1\n"
     ]
    }
   ],
   "source": [
    "import tensorflow as tf\n",
    "\n",
    "# Check if TensorFlow sees the GPU\n",
    "gpus = tf.config.list_physical_devices('GPU')\n",
    "if gpus:\n",
    "    print(f\"Num GPUs Available: {len(gpus)}\")\n",
    "else:\n",
    "    print(\"No GPU found, using CPU.\")\n"
   ]
  },
  {
   "cell_type": "code",
   "execution_count": 11,
   "id": "b594a8c8",
   "metadata": {
    "execution": {
     "iopub.execute_input": "2024-10-15T16:48:26.513507Z",
     "iopub.status.busy": "2024-10-15T16:48:26.512843Z",
     "iopub.status.idle": "2024-10-15T16:48:29.848500Z",
     "shell.execute_reply": "2024-10-15T16:48:29.847702Z"
    },
    "papermill": {
     "duration": 3.350134,
     "end_time": "2024-10-15T16:48:29.850946",
     "exception": false,
     "start_time": "2024-10-15T16:48:26.500812",
     "status": "completed"
    },
    "tags": []
   },
   "outputs": [],
   "source": [
    "import tensorflow as tf\n",
    "from tensorflow import keras\n",
    "from tensorflow.keras.regularizers import l2\n",
    "\n",
    "model = keras.Sequential([\n",
    "    keras.layers.Conv2D(filters=128, kernel_size=3, strides=1, activation='relu', kernel_initializer='he_normal', \n",
    "                        input_shape=(128, 128, 1), kernel_regularizer=l2(0.001)),\n",
    "    keras.layers.BatchNormalization(),\n",
    "    keras.layers.MaxPool2D(pool_size=2, strides=2),\n",
    "\n",
    "    keras.layers.Conv2D(filters=128, kernel_size=3, strides=1, padding='same', activation='relu', kernel_initializer='he_normal'),\n",
    "    keras.layers.BatchNormalization(),\n",
    "   # keras.layers.MaxPool2D(pool_size=2, strides=1),\n",
    "\n",
    "    #keras.layers.BatchNormalization(),\n",
    "    \n",
    "    keras.layers.GlobalAveragePooling2D(),\n",
    "    \n",
    "    keras.layers.Dense(units=128, activation='relu', kernel_initializer='he_normal'),\n",
    "    #keras.layers.Dropout(0.5),\n",
    "\n",
    "    keras.layers.Dense(units=4, activation='softmax')\n",
    "])\n",
    "\n",
    "# Callbacks\n",
    "es = keras.callbacks.EarlyStopping(monitor='val_loss', mode='min', verbose=1, patience=5)\n",
    "reduce_lr = keras.callbacks.ReduceLROnPlateau(monitor='val_loss', factor=0.5, patience=3, min_lr=1e-6, verbose=1)\n",
    "\n",
    "# Optimizer\n",
    "from tensorflow.keras.optimizers import Adam\n",
    "opt = Adam(learning_rate=0.001)\n",
    "\n",
    "# Compile the model\n",
    "model.compile(optimizer=opt,\n",
    "              loss='SparseCategoricalCrossentropy',\n",
    "              metrics=['accuracy'])\n",
    "\n",
    "# Model summary for a quick overview\n",
    "#model.summary()\n"
   ]
  },
  {
   "cell_type": "code",
   "execution_count": 12,
   "id": "c3be7c0d",
   "metadata": {
    "execution": {
     "iopub.execute_input": "2024-10-15T16:48:29.875223Z",
     "iopub.status.busy": "2024-10-15T16:48:29.874384Z",
     "iopub.status.idle": "2024-10-15T16:55:17.482283Z",
     "shell.execute_reply": "2024-10-15T16:55:17.481394Z"
    },
    "papermill": {
     "duration": 407.622192,
     "end_time": "2024-10-15T16:55:17.484275",
     "exception": false,
     "start_time": "2024-10-15T16:48:29.862083",
     "status": "completed"
    },
    "tags": []
   },
   "outputs": [
    {
     "name": "stdout",
     "output_type": "stream",
     "text": [
      "Epoch 1/50\n",
      "135/135 [==============================] - 17s 59ms/step - loss: 0.9875 - accuracy: 0.6946\n",
      "Epoch 2/50\n",
      "135/135 [==============================] - 8s 59ms/step - loss: 0.7083 - accuracy: 0.7955\n",
      "Epoch 3/50\n",
      "135/135 [==============================] - 8s 59ms/step - loss: 0.5725 - accuracy: 0.8401\n",
      "Epoch 4/50\n",
      "135/135 [==============================] - 8s 59ms/step - loss: 0.5072 - accuracy: 0.8624\n",
      "Epoch 5/50\n",
      "135/135 [==============================] - 8s 59ms/step - loss: 0.4539 - accuracy: 0.8754\n",
      "Epoch 6/50\n",
      "135/135 [==============================] - 8s 59ms/step - loss: 0.4224 - accuracy: 0.8849\n",
      "Epoch 7/50\n",
      "135/135 [==============================] - 8s 59ms/step - loss: 0.3856 - accuracy: 0.8986\n",
      "Epoch 8/50\n",
      "135/135 [==============================] - 8s 59ms/step - loss: 0.3591 - accuracy: 0.9049\n",
      "Epoch 9/50\n",
      "135/135 [==============================] - 8s 59ms/step - loss: 0.3537 - accuracy: 0.9069\n",
      "Epoch 10/50\n",
      "135/135 [==============================] - 8s 59ms/step - loss: 0.3239 - accuracy: 0.9160\n",
      "Epoch 11/50\n",
      "135/135 [==============================] - 8s 59ms/step - loss: 0.3115 - accuracy: 0.9166\n",
      "Epoch 12/50\n",
      "135/135 [==============================] - 8s 59ms/step - loss: 0.2870 - accuracy: 0.9271\n",
      "Epoch 13/50\n",
      "135/135 [==============================] - 8s 59ms/step - loss: 0.2850 - accuracy: 0.9265\n",
      "Epoch 14/50\n",
      "135/135 [==============================] - 8s 59ms/step - loss: 0.2528 - accuracy: 0.9392\n",
      "Epoch 15/50\n",
      "135/135 [==============================] - 8s 59ms/step - loss: 0.2298 - accuracy: 0.9494\n",
      "Epoch 16/50\n",
      "135/135 [==============================] - 8s 59ms/step - loss: 0.2659 - accuracy: 0.9336\n",
      "Epoch 17/50\n",
      "135/135 [==============================] - 8s 59ms/step - loss: 0.2353 - accuracy: 0.9412\n",
      "Epoch 18/50\n",
      "135/135 [==============================] - 8s 59ms/step - loss: 0.2217 - accuracy: 0.9486\n",
      "Epoch 19/50\n",
      "135/135 [==============================] - 8s 59ms/step - loss: 0.1955 - accuracy: 0.9586\n",
      "Epoch 20/50\n",
      "135/135 [==============================] - 8s 59ms/step - loss: 0.1785 - accuracy: 0.9633\n",
      "Epoch 21/50\n",
      "135/135 [==============================] - 8s 59ms/step - loss: 0.1686 - accuracy: 0.9685\n",
      "Epoch 22/50\n",
      "135/135 [==============================] - 8s 59ms/step - loss: 0.1650 - accuracy: 0.9662\n",
      "Epoch 23/50\n",
      "135/135 [==============================] - 8s 59ms/step - loss: 0.1475 - accuracy: 0.9773\n",
      "Epoch 24/50\n",
      "135/135 [==============================] - 8s 59ms/step - loss: 0.1398 - accuracy: 0.9772\n",
      "Epoch 25/50\n",
      "135/135 [==============================] - 8s 59ms/step - loss: 0.1450 - accuracy: 0.9748\n",
      "Epoch 26/50\n",
      "135/135 [==============================] - 8s 59ms/step - loss: 0.2358 - accuracy: 0.9384\n",
      "Epoch 27/50\n",
      "135/135 [==============================] - 8s 59ms/step - loss: 0.1670 - accuracy: 0.9655\n",
      "Epoch 28/50\n",
      "135/135 [==============================] - 8s 59ms/step - loss: 0.1425 - accuracy: 0.9739\n",
      "Epoch 29/50\n",
      "135/135 [==============================] - 8s 58ms/step - loss: 0.1255 - accuracy: 0.9816\n",
      "Epoch 30/50\n",
      "135/135 [==============================] - 8s 59ms/step - loss: 0.1554 - accuracy: 0.9699\n",
      "Epoch 31/50\n",
      "135/135 [==============================] - 8s 59ms/step - loss: 0.1178 - accuracy: 0.9837\n",
      "Epoch 32/50\n",
      "135/135 [==============================] - 8s 59ms/step - loss: 0.1080 - accuracy: 0.9876\n",
      "Epoch 33/50\n",
      "135/135 [==============================] - 8s 59ms/step - loss: 0.0963 - accuracy: 0.9906\n",
      "Epoch 34/50\n",
      "135/135 [==============================] - 8s 59ms/step - loss: 0.1471 - accuracy: 0.9711\n",
      "Epoch 35/50\n",
      "135/135 [==============================] - 8s 59ms/step - loss: 0.1003 - accuracy: 0.9892\n",
      "Epoch 36/50\n",
      "135/135 [==============================] - 8s 59ms/step - loss: 0.0963 - accuracy: 0.9906\n",
      "Epoch 37/50\n",
      "135/135 [==============================] - 8s 59ms/step - loss: 0.0925 - accuracy: 0.9903\n",
      "Epoch 38/50\n",
      "135/135 [==============================] - 8s 59ms/step - loss: 0.0833 - accuracy: 0.9931\n",
      "Epoch 39/50\n",
      "135/135 [==============================] - 8s 59ms/step - loss: 0.0847 - accuracy: 0.9921\n",
      "Epoch 40/50\n",
      "135/135 [==============================] - 8s 59ms/step - loss: 0.0850 - accuracy: 0.9928\n",
      "Epoch 41/50\n",
      "135/135 [==============================] - 8s 59ms/step - loss: 0.0795 - accuracy: 0.9935\n",
      "Epoch 42/50\n",
      "135/135 [==============================] - 8s 59ms/step - loss: 0.0827 - accuracy: 0.9915\n",
      "Epoch 43/50\n",
      "135/135 [==============================] - 8s 59ms/step - loss: 0.0857 - accuracy: 0.9896\n",
      "Epoch 44/50\n",
      "135/135 [==============================] - 8s 59ms/step - loss: 0.0795 - accuracy: 0.9914\n",
      "Epoch 45/50\n",
      "135/135 [==============================] - 8s 59ms/step - loss: 0.0757 - accuracy: 0.9927\n",
      "Epoch 46/50\n",
      "135/135 [==============================] - 8s 59ms/step - loss: 0.0640 - accuracy: 0.9978\n",
      "Epoch 47/50\n",
      "135/135 [==============================] - 8s 59ms/step - loss: 0.0787 - accuracy: 0.9906\n",
      "Epoch 48/50\n",
      "135/135 [==============================] - 8s 59ms/step - loss: 0.1095 - accuracy: 0.9805\n",
      "Epoch 49/50\n",
      "135/135 [==============================] - 8s 59ms/step - loss: 0.0748 - accuracy: 0.9920\n",
      "Epoch 50/50\n",
      "135/135 [==============================] - 8s 59ms/step - loss: 0.1817 - accuracy: 0.9520\n"
     ]
    },
    {
     "data": {
      "text/plain": [
       "<keras.callbacks.History at 0x7b0090705810>"
      ]
     },
     "execution_count": 12,
     "metadata": {},
     "output_type": "execute_result"
    }
   ],
   "source": [
    "\n",
    "# Fit the model\n",
    "model.fit(train_images_normalized, train_ls, epochs=50, batch_size=64)\n"
   ]
  },
  {
   "cell_type": "code",
   "execution_count": null,
   "id": "9afc5272",
   "metadata": {
    "papermill": {
     "duration": 0.540072,
     "end_time": "2024-10-15T16:55:18.545893",
     "exception": false,
     "start_time": "2024-10-15T16:55:18.005821",
     "status": "completed"
    },
    "tags": []
   },
   "outputs": [],
   "source": []
  },
  {
   "cell_type": "code",
   "execution_count": null,
   "id": "5d518f5c",
   "metadata": {
    "papermill": {
     "duration": 0.587692,
     "end_time": "2024-10-15T16:55:19.657875",
     "exception": false,
     "start_time": "2024-10-15T16:55:19.070183",
     "status": "completed"
    },
    "tags": []
   },
   "outputs": [],
   "source": []
  },
  {
   "cell_type": "code",
   "execution_count": 13,
   "id": "4396f14a",
   "metadata": {
    "execution": {
     "iopub.execute_input": "2024-10-15T16:55:20.727426Z",
     "iopub.status.busy": "2024-10-15T16:55:20.726799Z",
     "iopub.status.idle": "2024-10-15T16:55:20.732932Z",
     "shell.execute_reply": "2024-10-15T16:55:20.732167Z"
    },
    "papermill": {
     "duration": 0.549598,
     "end_time": "2024-10-15T16:55:20.734792",
     "exception": false,
     "start_time": "2024-10-15T16:55:20.185194",
     "status": "completed"
    },
    "tags": []
   },
   "outputs": [
    {
     "data": {
      "text/plain": [
       "\"from sklearn.metrics import accuracy_score\\n\\n# Make predictions on the test data\\npredictions = model.predict(test_images_normalized)\\n\\n# Convert the predictions to the class labels\\npredicted_labels = np.argmax(predictions, axis=1)\\n\\n# Compute the accuracy score\\naccuracy = accuracy_score(test_labels, predicted_labels)\\n\\nprint('Accuracy:', accuracy)\""
      ]
     },
     "execution_count": 13,
     "metadata": {},
     "output_type": "execute_result"
    }
   ],
   "source": [
    "'''from sklearn.metrics import accuracy_score\n",
    "\n",
    "# Make predictions on the test data\n",
    "predictions = model.predict(test_images_normalized)\n",
    "\n",
    "# Convert the predictions to the class labels\n",
    "predicted_labels = np.argmax(predictions, axis=1)\n",
    "\n",
    "# Compute the accuracy score\n",
    "accuracy = accuracy_score(test_labels, predicted_labels)\n",
    "\n",
    "print('Accuracy:', accuracy)'''"
   ]
  },
  {
   "cell_type": "markdown",
   "id": "93e56a4b",
   "metadata": {
    "papermill": {
     "duration": 0.58459,
     "end_time": "2024-10-15T16:55:21.841222",
     "exception": false,
     "start_time": "2024-10-15T16:55:21.256632",
     "status": "completed"
    },
    "tags": []
   },
   "source": [
    "# Test set pre-processing"
   ]
  },
  {
   "cell_type": "code",
   "execution_count": 14,
   "id": "efd901c2",
   "metadata": {
    "execution": {
     "iopub.execute_input": "2024-10-15T16:55:22.889694Z",
     "iopub.status.busy": "2024-10-15T16:55:22.888977Z",
     "iopub.status.idle": "2024-10-15T16:55:23.177241Z",
     "shell.execute_reply": "2024-10-15T16:55:23.176188Z"
    },
    "papermill": {
     "duration": 0.816394,
     "end_time": "2024-10-15T16:55:23.179214",
     "exception": false,
     "start_time": "2024-10-15T16:55:22.362820",
     "status": "completed"
    },
    "tags": []
   },
   "outputs": [
    {
     "data": {
      "text/plain": [
       "770"
      ]
     },
     "execution_count": 14,
     "metadata": {},
     "output_type": "execute_result"
    }
   ],
   "source": [
    "import gc\n",
    "\n",
    "# Manually run garbage collection\n",
    "gc.collect()\n"
   ]
  },
  {
   "cell_type": "code",
   "execution_count": 15,
   "id": "3baaf5df",
   "metadata": {
    "execution": {
     "iopub.execute_input": "2024-10-15T16:55:24.289960Z",
     "iopub.status.busy": "2024-10-15T16:55:24.289101Z",
     "iopub.status.idle": "2024-10-15T16:55:24.473677Z",
     "shell.execute_reply": "2024-10-15T16:55:24.472891Z"
    },
    "papermill": {
     "duration": 0.77089,
     "end_time": "2024-10-15T16:55:24.475986",
     "exception": false,
     "start_time": "2024-10-15T16:55:23.705096",
     "status": "completed"
    },
    "tags": []
   },
   "outputs": [],
   "source": [
    "path = \"/kaggle/input/brain-tumor-mri-dataset/Testing\"\n",
    "key_value= dict()\n",
    "for i in os.listdir(path):\n",
    "    if os.path.isdir(os.path.join(path, i)):\n",
    "        key_value[i] = os.listdir(os.path.join(path, i))\n",
    "dft1 = []\n",
    "for key in key_value.keys():\n",
    "    for j in key_value[key]:\n",
    "        dft1.append([key,path+'/'+key+'/'+j])\n",
    "dft1 = pd.DataFrame(dft1,columns=('label','path'))"
   ]
  },
  {
   "cell_type": "code",
   "execution_count": 16,
   "id": "d5156575",
   "metadata": {
    "execution": {
     "iopub.execute_input": "2024-10-15T16:55:25.523971Z",
     "iopub.status.busy": "2024-10-15T16:55:25.523077Z",
     "iopub.status.idle": "2024-10-15T16:55:25.722143Z",
     "shell.execute_reply": "2024-10-15T16:55:25.721155Z"
    },
    "papermill": {
     "duration": 0.728007,
     "end_time": "2024-10-15T16:55:25.724794",
     "exception": false,
     "start_time": "2024-10-15T16:55:24.996787",
     "status": "completed"
    },
    "tags": []
   },
   "outputs": [],
   "source": [
    "#load train data\n",
    "path = \"/kaggle/input/brain-tumor-classification-mri/Testing\"\n",
    "key_value= dict()\n",
    "for i in os.listdir(path):\n",
    "    if os.path.isdir(os.path.join(path, i)):\n",
    "        key_value[i] = os.listdir(os.path.join(path, i))\n",
    "dft2 = []\n",
    "for key in key_value.keys():\n",
    "    for j in key_value[key]:\n",
    "        dft2.append([key,os.path.join(path, key, j)])\n",
    "dft2 = pd.DataFrame(dft2,columns=('label','path'))\n",
    "\n",
    "import pandas as pd\n",
    "\n",
    "dft2['label'] = dft2['label'].replace({\n",
    "    'glioma_tumor': 'glioma',\n",
    "    'no_tumor': 'notumor',\n",
    "    'meningioma_tumor': 'meningioma',\n",
    "    'pituitary_tumor': 'pituitary'\n",
    "})\n",
    "\n"
   ]
  },
  {
   "cell_type": "code",
   "execution_count": 17,
   "id": "8c0b8369",
   "metadata": {
    "execution": {
     "iopub.execute_input": "2024-10-15T16:55:26.877925Z",
     "iopub.status.busy": "2024-10-15T16:55:26.877571Z",
     "iopub.status.idle": "2024-10-15T16:55:26.883155Z",
     "shell.execute_reply": "2024-10-15T16:55:26.882174Z"
    },
    "papermill": {
     "duration": 0.602245,
     "end_time": "2024-10-15T16:55:26.885102",
     "exception": false,
     "start_time": "2024-10-15T16:55:26.282857",
     "status": "completed"
    },
    "tags": []
   },
   "outputs": [],
   "source": [
    "dft = pd.concat([dft1, dft2], axis=0)\n"
   ]
  },
  {
   "cell_type": "code",
   "execution_count": 18,
   "id": "7aa1cdf6",
   "metadata": {
    "execution": {
     "iopub.execute_input": "2024-10-15T16:55:27.935118Z",
     "iopub.status.busy": "2024-10-15T16:55:27.934790Z",
     "iopub.status.idle": "2024-10-15T16:55:49.241221Z",
     "shell.execute_reply": "2024-10-15T16:55:49.240083Z"
    },
    "papermill": {
     "duration": 21.833248,
     "end_time": "2024-10-15T16:55:49.243773",
     "exception": false,
     "start_time": "2024-10-15T16:55:27.410525",
     "status": "completed"
    },
    "tags": []
   },
   "outputs": [],
   "source": [
    "images = []\n",
    "labels = []\n",
    "for path, label in zip(dft['path'], dft['label']):\n",
    "    try:\n",
    "        img = cv.imread(path)\n",
    "        img = cv.resize(img, (128, 128))\n",
    "        img = cv.cvtColor(img, cv.COLOR_BGR2GRAY)\n",
    "        if img is not None:\n",
    "            images.append(img)\n",
    "            labels.append(label)\n",
    "        else:\n",
    "            print(f\"Image at path {path} is None\")\n",
    "    except Exception as e:\n",
    "        print(f\"Error reading or resizing image at path: {path}\")\n",
    "        print(f\"Error message: {str(e)}\")\n",
    "\n",
    "images = np.array(images, dtype='float')\n",
    "#_, images = cv.threshold(images, 127, 255, cv.THRESH_BINARY)\n",
    "labels = np.array(labels)\n",
    "\n",
    "le = preprocessing.LabelEncoder()\n",
    "y_labels = le.fit_transform(labels)\n",
    "# Split the data into training and testing\n",
    "test_images= images\n",
    "test_labels= y_labels\n",
    "# Convert images to RGB color space\n",
    "test_images_rgb = np.repeat(test_images[..., np.newaxis], 3, -1)\n",
    "\n",
    "# Normalize images\n",
    "test_images_normalized = test_images / 255.0\n"
   ]
  },
  {
   "cell_type": "code",
   "execution_count": 19,
   "id": "5ea42aa5",
   "metadata": {
    "execution": {
     "iopub.execute_input": "2024-10-15T16:55:50.394034Z",
     "iopub.status.busy": "2024-10-15T16:55:50.393685Z",
     "iopub.status.idle": "2024-10-15T16:55:51.556932Z",
     "shell.execute_reply": "2024-10-15T16:55:51.555930Z"
    },
    "papermill": {
     "duration": 1.790972,
     "end_time": "2024-10-15T16:55:51.559021",
     "exception": false,
     "start_time": "2024-10-15T16:55:49.768049",
     "status": "completed"
    },
    "tags": []
   },
   "outputs": [
    {
     "name": "stdout",
     "output_type": "stream",
     "text": [
      "54/54 [==============================] - 1s 9ms/step\n",
      "Accuracy: 0.849266862170088\n"
     ]
    }
   ],
   "source": [
    "from sklearn.metrics import accuracy_score\n",
    "\n",
    "# Make predictions on the test data\n",
    "predictions = model.predict(test_images_normalized)\n",
    "\n",
    "# Convert the predictions to the class labels\n",
    "predicted_labels = np.argmax(predictions, axis=1)\n",
    "\n",
    "# Compute the accuracy score\n",
    "accuracy = accuracy_score(test_labels, predicted_labels)\n",
    "\n",
    "print('Accuracy:', accuracy)"
   ]
  },
  {
   "cell_type": "code",
   "execution_count": 20,
   "id": "cffa7f96",
   "metadata": {
    "execution": {
     "iopub.execute_input": "2024-10-15T16:55:52.648485Z",
     "iopub.status.busy": "2024-10-15T16:55:52.648107Z",
     "iopub.status.idle": "2024-10-15T16:55:52.664692Z",
     "shell.execute_reply": "2024-10-15T16:55:52.663650Z"
    },
    "papermill": {
     "duration": 0.549829,
     "end_time": "2024-10-15T16:55:52.666887",
     "exception": false,
     "start_time": "2024-10-15T16:55:52.117058",
     "status": "completed"
    },
    "tags": []
   },
   "outputs": [
    {
     "name": "stdout",
     "output_type": "stream",
     "text": [
      "              precision    recall  f1-score   support\n",
      "\n",
      "           0       0.71      0.82      0.76       400\n",
      "           1       0.86      0.71      0.78       421\n",
      "           2       0.91      0.95      0.93       510\n",
      "           3       0.93      0.90      0.91       374\n",
      "\n",
      "    accuracy                           0.85      1705\n",
      "   macro avg       0.85      0.85      0.85      1705\n",
      "weighted avg       0.85      0.85      0.85      1705\n",
      "\n"
     ]
    }
   ],
   "source": [
    "from sklearn.metrics import confusion_matrix\n",
    "\n",
    "cm=confusion_matrix(test_labels, predicted_labels)\n",
    "\n",
    "from sklearn.metrics import classification_report\n",
    "from sklearn.preprocessing import LabelEncoder\n",
    "\n",
    "\n",
    "# Assuming y_true is the true labels and y_pred is the predicted labels\n",
    "print(classification_report(test_labels, predicted_labels))\n"
   ]
  },
  {
   "cell_type": "code",
   "execution_count": 21,
   "id": "23e1c348",
   "metadata": {
    "execution": {
     "iopub.execute_input": "2024-10-15T16:55:53.790016Z",
     "iopub.status.busy": "2024-10-15T16:55:53.789380Z",
     "iopub.status.idle": "2024-10-15T16:55:54.569847Z",
     "shell.execute_reply": "2024-10-15T16:55:54.568949Z"
    },
    "papermill": {
     "duration": 1.367302,
     "end_time": "2024-10-15T16:55:54.572206",
     "exception": false,
     "start_time": "2024-10-15T16:55:53.204904",
     "status": "completed"
    },
    "tags": []
   },
   "outputs": [
    {
     "data": {
      "image/png": "[encoded data removed]",
      "text/plain": [
       "<Figure size 1000x700 with 2 Axes>"
      ]
     },
     "metadata": {},
     "output_type": "display_data"
    },
    {
     "name": "stdout",
     "output_type": "stream",
     "text": [
      "              precision    recall  f1-score   support\n",
      "\n",
      "      glioma       0.71      0.82      0.76       400\n",
      "  meningioma       0.86      0.71      0.78       421\n",
      "     notumor       0.91      0.95      0.93       510\n",
      "   pituitary       0.93      0.90      0.91       374\n",
      "\n",
      "    accuracy                           0.85      1705\n",
      "   macro avg       0.85      0.85      0.85      1705\n",
      "weighted avg       0.85      0.85      0.85      1705\n",
      "\n"
     ]
    }
   ],
   "source": [
    "import seaborn as sns\n",
    "\n",
    "# Inverse transform the encoded labels to original class names\n",
    "test_labels_original = le.inverse_transform(test_labels)\n",
    "predicted_labels_original = le.inverse_transform(predicted_labels)\n",
    "\n",
    "# Compute the confusion matrix\n",
    "cm = confusion_matrix(test_labels_original, predicted_labels_original)\n",
    "\n",
    "# Get the unique label names\n",
    "class_names = le.classes_\n",
    "\n",
    "# Plot the confusion matrix with labels\n",
    "plt.figure(figsize=(10, 7))\n",
    "sns.heatmap(cm, annot=True, fmt='d', cmap='Blues', xticklabels=class_names, yticklabels=class_names)\n",
    "plt.title('Confusion Matrix')\n",
    "plt.ylabel('True Label')\n",
    "plt.xlabel('Predicted Label')\n",
    "plt.show()\n",
    "\n",
    "# Print the classification report with actual class names\n",
    "print(classification_report(test_labels_original, predicted_labels_original, target_names=class_names))"
   ]
  },
  {
   "cell_type": "markdown",
   "id": "509db952",
   "metadata": {
    "papermill": {
     "duration": 0.528531,
     "end_time": "2024-10-15T16:55:55.659579",
     "exception": false,
     "start_time": "2024-10-15T16:55:55.131048",
     "status": "completed"
    },
    "tags": []
   },
   "source": [
    "#  Saving the model"
   ]
  },
  {
   "cell_type": "code",
   "execution_count": 22,
   "id": "de67b2ae",
   "metadata": {
    "execution": {
     "iopub.execute_input": "2024-10-15T16:55:56.775251Z",
     "iopub.status.busy": "2024-10-15T16:55:56.774866Z",
     "iopub.status.idle": "2024-10-15T16:55:56.830980Z",
     "shell.execute_reply": "2024-10-15T16:55:56.830167Z"
    },
    "papermill": {
     "duration": 0.648,
     "end_time": "2024-10-15T16:55:56.833385",
     "exception": false,
     "start_time": "2024-10-15T16:55:56.185385",
     "status": "completed"
    },
    "tags": []
   },
   "outputs": [],
   "source": [
    "model.save('/kaggle/working/model.h5')\n"
   ]
  },
  {
   "cell_type": "code",
   "execution_count": 23,
   "id": "398d0929",
   "metadata": {
    "execution": {
     "iopub.execute_input": "2024-10-15T16:55:57.940582Z",
     "iopub.status.busy": "2024-10-15T16:55:57.940230Z",
     "iopub.status.idle": "2024-10-15T16:55:58.195163Z",
     "shell.execute_reply": "2024-10-15T16:55:58.194113Z"
    },
    "papermill": {
     "duration": 0.83536,
     "end_time": "2024-10-15T16:55:58.197416",
     "exception": false,
     "start_time": "2024-10-15T16:55:57.362056",
     "status": "completed"
    },
    "tags": []
   },
   "outputs": [
    {
     "data": {
      "text/plain": [
       "6066"
      ]
     },
     "execution_count": 23,
     "metadata": {},
     "output_type": "execute_result"
    }
   ],
   "source": [
    "import gc\n",
    "\n",
    "# Manually run garbage collection\n",
    "gc.collect()\n"
   ]
  },
  {
   "cell_type": "code",
   "execution_count": 24,
   "id": "768ad1e0",
   "metadata": {
    "execution": {
     "iopub.execute_input": "2024-10-15T16:55:59.326873Z",
     "iopub.status.busy": "2024-10-15T16:55:59.326324Z",
     "iopub.status.idle": "2024-10-15T16:55:59.334134Z",
     "shell.execute_reply": "2024-10-15T16:55:59.333237Z"
    },
    "papermill": {
     "duration": 0.538174,
     "end_time": "2024-10-15T16:55:59.336334",
     "exception": false,
     "start_time": "2024-10-15T16:55:58.798160",
     "status": "completed"
    },
    "tags": []
   },
   "outputs": [
    {
     "data": {
      "text/plain": [
       "\"import tensorflow as tf\\nfrom tensorflow import keras\\nfrom sklearn.model_selection import train_test_split\\n\\n\\n# Split the data into training and validation sets\\ntrain_images, val_images, train_labels, val_labels = train_test_split(train_images_rgb, train_ls, test_size=0.25, random_state=42)\\n\\n# Load the pre-trained ResNet50 model\\nbase_model = keras.applications.ResNet50(weights='imagenet', include_top=False, input_shape=(150, 150, 3))\\n\\n\\n\\n# Build the model\\nmodel = keras.Sequential([\\n    base_model,\\n    keras.layers.GlobalAveragePooling2D(), \\n    \\n    keras.layers.Dense(units=250, activation='relu', kernel_initializer='he_normal'),\\n    \\n    # Output layer for 4-class classification\\n    keras.layers.Dense(units=4, activation='softmax')\\n])\\n\\n# Compile the model\\nmodel.compile(optimizer=keras.optimizers.Adam(learning_rate=0.0001),  # Use a low learning rate for fine-tuning\\n              loss='SparseCategoricalCrossentropy',\\n              metrics=['accuracy'])\\n\\n# Train the model\\nmodel.fit(train_images, train_labels, epochs=20, batch_size=64, validation_data=(val_images, val_labels))\\n\\nfrom sklearn.metrics import accuracy_score\\n\\n# Make predictions on the test data\\npredictions = model.predict(test_images_rgb)\\n\\n# Convert the predictions to the class labels\\npredicted_labels = np.argmax(predictions, axis=1)\\n\\n# Compute the accuracy score\\naccuracy = accuracy_score(test_labels, predicted_labels)\\n\\nprint('Accuracy:', accuracy)\""
      ]
     },
     "execution_count": 24,
     "metadata": {},
     "output_type": "execute_result"
    }
   ],
   "source": [
    "'''import tensorflow as tf\n",
    "from tensorflow import keras\n",
    "from sklearn.model_selection import train_test_split\n",
    "\n",
    "\n",
    "# Split the data into training and validation sets\n",
    "train_images, val_images, train_labels, val_labels = train_test_split(train_images_rgb, train_ls, test_size=0.25, random_state=42)\n",
    "\n",
    "# Load the pre-trained ResNet50 model\n",
    "base_model = keras.applications.ResNet50(weights='imagenet', include_top=False, input_shape=(150, 150, 3))\n",
    "\n",
    "\n",
    "\n",
    "# Build the model\n",
    "model = keras.Sequential([\n",
    "    base_model,\n",
    "    keras.layers.GlobalAveragePooling2D(), \n",
    "    \n",
    "    keras.layers.Dense(units=250, activation='relu', kernel_initializer='he_normal'),\n",
    "    \n",
    "    # Output layer for 4-class classification\n",
    "    keras.layers.Dense(units=4, activation='softmax')\n",
    "])\n",
    "\n",
    "# Compile the model\n",
    "model.compile(optimizer=keras.optimizers.Adam(learning_rate=0.0001),  # Use a low learning rate for fine-tuning\n",
    "              loss='SparseCategoricalCrossentropy',\n",
    "              metrics=['accuracy'])\n",
    "\n",
    "# Train the model\n",
    "model.fit(train_images, train_labels, epochs=20, batch_size=64, validation_data=(val_images, val_labels))\n",
    "\n",
    "from sklearn.metrics import accuracy_score\n",
    "\n",
    "# Make predictions on the test data\n",
    "predictions = model.predict(test_images_rgb)\n",
    "\n",
    "# Convert the predictions to the class labels\n",
    "predicted_labels = np.argmax(predictions, axis=1)\n",
    "\n",
    "# Compute the accuracy score\n",
    "accuracy = accuracy_score(test_labels, predicted_labels)\n",
    "\n",
    "print('Accuracy:', accuracy)'''"
   ]
  },
  {
   "cell_type": "code",
   "execution_count": 25,
   "id": "faa69122",
   "metadata": {
    "execution": {
     "iopub.execute_input": "2024-10-15T16:56:00.426001Z",
     "iopub.status.busy": "2024-10-15T16:56:00.425646Z",
     "iopub.status.idle": "2024-10-15T16:56:00.660971Z",
     "shell.execute_reply": "2024-10-15T16:56:00.660096Z"
    },
    "papermill": {
     "duration": 0.792227,
     "end_time": "2024-10-15T16:56:00.662962",
     "exception": false,
     "start_time": "2024-10-15T16:55:59.870735",
     "status": "completed"
    },
    "tags": []
   },
   "outputs": [
    {
     "data": {
      "text/plain": [
       "0"
      ]
     },
     "execution_count": 25,
     "metadata": {},
     "output_type": "execute_result"
    }
   ],
   "source": [
    "import gc\n",
    "\n",
    "# Manually run garbage collection\n",
    "gc.collect()\n"
   ]
  },
  {
   "cell_type": "code",
   "execution_count": 26,
   "id": "7de7ba78",
   "metadata": {
    "execution": {
     "iopub.execute_input": "2024-10-15T16:56:01.767015Z",
     "iopub.status.busy": "2024-10-15T16:56:01.766647Z",
     "iopub.status.idle": "2024-10-15T17:03:56.326274Z",
     "shell.execute_reply": "2024-10-15T17:03:56.324857Z"
    },
    "papermill": {
     "duration": 475.146237,
     "end_time": "2024-10-15T17:03:56.328916",
     "exception": false,
     "start_time": "2024-10-15T16:56:01.182679",
     "status": "completed"
    },
    "tags": []
   },
   "outputs": [
    {
     "name": "stdout",
     "output_type": "stream",
     "text": [
      "Downloading data from https://storage.googleapis.com/tensorflow/keras-applications/densenet/densenet121_weights_tf_dim_ordering_tf_kernels_notop.h5\n",
      "29084464/29084464 [==============================] - 2s 0us/step\n",
      "Epoch 1/25\n",
      "101/101 [==============================] - 96s 219ms/step - loss: 0.2928 - accuracy: 0.8903 - val_loss: 0.3446 - val_accuracy: 0.8639\n",
      "Epoch 2/25\n",
      "101/101 [==============================] - 15s 149ms/step - loss: 0.0238 - accuracy: 0.9944 - val_loss: 0.0535 - val_accuracy: 0.9776\n",
      "Epoch 3/25\n",
      "101/101 [==============================] - 15s 149ms/step - loss: 0.0087 - accuracy: 0.9986 - val_loss: 0.0504 - val_accuracy: 0.9842\n",
      "Epoch 4/25\n",
      "101/101 [==============================] - 15s 149ms/step - loss: 0.0052 - accuracy: 0.9992 - val_loss: 0.0470 - val_accuracy: 0.9832\n",
      "Epoch 5/25\n",
      "101/101 [==============================] - 15s 149ms/step - loss: 0.0050 - accuracy: 0.9991 - val_loss: 0.0666 - val_accuracy: 0.9800\n",
      "Epoch 6/25\n",
      "101/101 [==============================] - 15s 149ms/step - loss: 0.0137 - accuracy: 0.9953 - val_loss: 0.0502 - val_accuracy: 0.9832\n",
      "Epoch 7/25\n",
      "101/101 [==============================] - 15s 149ms/step - loss: 0.0066 - accuracy: 0.9986 - val_loss: 0.0505 - val_accuracy: 0.9874\n",
      "Epoch 8/25\n",
      "101/101 [==============================] - 15s 149ms/step - loss: 0.0129 - accuracy: 0.9961 - val_loss: 0.1781 - val_accuracy: 0.9548\n",
      "Epoch 9/25\n",
      "101/101 [==============================] - 15s 149ms/step - loss: 0.0146 - accuracy: 0.9955 - val_loss: 0.1124 - val_accuracy: 0.9683\n",
      "Epoch 10/25\n",
      "101/101 [==============================] - 15s 149ms/step - loss: 0.0093 - accuracy: 0.9969 - val_loss: 0.0975 - val_accuracy: 0.9744\n",
      "Epoch 11/25\n",
      "101/101 [==============================] - 15s 150ms/step - loss: 0.0107 - accuracy: 0.9966 - val_loss: 0.0526 - val_accuracy: 0.9828\n",
      "Epoch 12/25\n",
      "101/101 [==============================] - 15s 148ms/step - loss: 0.0044 - accuracy: 0.9984 - val_loss: 0.0581 - val_accuracy: 0.9846\n",
      "Epoch 13/25\n",
      "101/101 [==============================] - 15s 149ms/step - loss: 0.0060 - accuracy: 0.9983 - val_loss: 0.0520 - val_accuracy: 0.9893\n",
      "Epoch 14/25\n",
      "101/101 [==============================] - 15s 149ms/step - loss: 0.0011 - accuracy: 0.9998 - val_loss: 0.0360 - val_accuracy: 0.9907\n",
      "Epoch 15/25\n",
      "101/101 [==============================] - 15s 149ms/step - loss: 0.0021 - accuracy: 0.9995 - val_loss: 0.0513 - val_accuracy: 0.9884\n",
      "Epoch 16/25\n",
      "101/101 [==============================] - 15s 149ms/step - loss: 0.0067 - accuracy: 0.9972 - val_loss: 0.1028 - val_accuracy: 0.9734\n",
      "Epoch 17/25\n",
      "101/101 [==============================] - 15s 149ms/step - loss: 0.0176 - accuracy: 0.9941 - val_loss: 0.0725 - val_accuracy: 0.9781\n",
      "Epoch 18/25\n",
      "101/101 [==============================] - 15s 148ms/step - loss: 0.0166 - accuracy: 0.9947 - val_loss: 0.0847 - val_accuracy: 0.9767\n",
      "Epoch 19/25\n",
      "101/101 [==============================] - 15s 149ms/step - loss: 0.0093 - accuracy: 0.9967 - val_loss: 0.0386 - val_accuracy: 0.9897\n",
      "Epoch 20/25\n",
      "101/101 [==============================] - 15s 149ms/step - loss: 0.0063 - accuracy: 0.9977 - val_loss: 0.0770 - val_accuracy: 0.9818\n",
      "Epoch 21/25\n",
      "101/101 [==============================] - 15s 149ms/step - loss: 0.0042 - accuracy: 0.9986 - val_loss: 0.0282 - val_accuracy: 0.9916\n",
      "Epoch 22/25\n",
      "101/101 [==============================] - 15s 149ms/step - loss: 0.0015 - accuracy: 0.9994 - val_loss: 0.0208 - val_accuracy: 0.9935\n",
      "Epoch 23/25\n",
      "101/101 [==============================] - 15s 149ms/step - loss: 0.0011 - accuracy: 0.9998 - val_loss: 0.0221 - val_accuracy: 0.9949\n",
      "Epoch 24/25\n",
      "101/101 [==============================] - 15s 149ms/step - loss: 1.5850e-04 - accuracy: 1.0000 - val_loss: 0.0209 - val_accuracy: 0.9944\n",
      "Epoch 25/25\n",
      "101/101 [==============================] - 15s 149ms/step - loss: 4.4161e-04 - accuracy: 1.0000 - val_loss: 0.0291 - val_accuracy: 0.9916\n",
      "54/54 [==============================] - 5s 44ms/step\n",
      "Accuracy: 0.9401759530791789\n"
     ]
    }
   ],
   "source": [
    "import tensorflow as tf\n",
    "from tensorflow import keras\n",
    "from sklearn.model_selection import train_test_split\n",
    "import numpy as np\n",
    "from sklearn.metrics import accuracy_score\n",
    "\n",
    "# Split the data into training and validation sets\n",
    "train_images, val_images, train_labels, val_labels = train_test_split(train_images_rgb, train_ls, test_size=0.25, random_state=42)\n",
    "\n",
    "# Load the pre-trained DenseNet121 model\n",
    "base_model = keras.applications.DenseNet121(weights='imagenet', include_top=False, input_shape=(128, 128, 3))\n",
    "\n",
    "# Build the model\n",
    "model = keras.Sequential([\n",
    "    base_model,\n",
    "    keras.layers.GlobalAveragePooling2D(), \n",
    "    \n",
    "    keras.layers.Dense(units=250, activation='relu', kernel_initializer='he_normal'),\n",
    "    \n",
    "    # Output layer for 4-class classification\n",
    "    keras.layers.Dense(units=4, activation='softmax')\n",
    "])\n",
    "\n",
    "# Compile the model\n",
    "model.compile(optimizer=keras.optimizers.Adam(learning_rate=0.0001),  # Use a low learning rate for fine-tuning\n",
    "              loss='SparseCategoricalCrossentropy',\n",
    "              metrics=['accuracy'])\n",
    "\n",
    "# Train the model\n",
    "model.fit(train_images, train_labels, epochs=25, batch_size=64, validation_data=(val_images, val_labels))\n",
    "\n",
    "# Make predictions on the test data\n",
    "predictions = model.predict(test_images_rgb)\n",
    "\n",
    "# Convert the predictions to the class labels\n",
    "predicted_labels = np.argmax(predictions, axis=1)\n",
    "\n",
    "# Compute the accuracy score\n",
    "accuracy = accuracy_score(test_labels, predicted_labels)\n",
    "\n",
    "print('Accuracy:', accuracy)\n"
   ]
  },
  {
   "cell_type": "code",
   "execution_count": 27,
   "id": "7b3ddb57",
   "metadata": {
    "execution": {
     "iopub.execute_input": "2024-10-15T17:03:57.872422Z",
     "iopub.status.busy": "2024-10-15T17:03:57.871998Z",
     "iopub.status.idle": "2024-10-15T17:05:06.351554Z",
     "shell.execute_reply": "2024-10-15T17:05:06.350739Z"
    },
    "papermill": {
     "duration": 69.276987,
     "end_time": "2024-10-15T17:05:06.354312",
     "exception": false,
     "start_time": "2024-10-15T17:03:57.077325",
     "status": "completed"
    },
    "tags": []
   },
   "outputs": [],
   "source": [
    "model.save('/kaggle/working/saved_model/my_model')\n"
   ]
  }
 ],
 "metadata": {
  "kaggle": {
   "accelerator": "gpu",
   "dataSources": [
    {
     "datasetId": 672377,
     "sourceId": 1183165,
     "sourceType": "datasetVersion"
    },
    {
     "datasetId": 1608934,
     "sourceId": 2645886,
     "sourceType": "datasetVersion"
    }
   ],
   "dockerImageVersionId": 30512,
   "isGpuEnabled": true,
   "isInternetEnabled": true,
   "language": "python",
   "sourceType": "notebook"
  },
  "kernelspec": {
   "display_name": "Python 3",
   "language": "python",
   "name": "python3"
  },
  "language_info": {
   "codemirror_mode": {
    "name": "ipython",
    "version": 3
   },
   "file_extension": ".py",
   "mimetype": "text/x-python",
   "name": "python",
   "nbconvert_exporter": "python",
   "pygments_lexer": "ipython3",
   "version": "3.10.10"
  },
  "papermill": {
   "default_parameters": {},
   "duration": 1155.840386,
   "end_time": "2024-10-15T17:05:10.016623",
   "environment_variables": {},
   "exception": null,
   "input_path": "__notebook__.ipynb",
   "output_path": "__notebook__.ipynb",
   "parameters": {},
   "start_time": "2024-10-15T16:45:54.176237",
   "version": "2.4.0"
  }
 },
 "nbformat": 4,
 "nbformat_minor": 5
}
